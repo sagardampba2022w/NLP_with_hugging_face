{
  "nbformat": 4,
  "nbformat_minor": 0,
  "metadata": {
    "colab": {
      "provenance": [],
      "authorship_tag": "ABX9TyMFMTEswPmYTOfputGQcFL5",
      "include_colab_link": true
    },
    "kernelspec": {
      "name": "python3",
      "display_name": "Python 3"
    },
    "language_info": {
      "name": "python"
    }
  },
  "cells": [
    {
      "cell_type": "markdown",
      "metadata": {
        "id": "view-in-github",
        "colab_type": "text"
      },
      "source": [
        "<a href=\"https://colab.research.google.com/github/sagardampba2022w/NLP_with_hugging_face/blob/main/nlp_hf_07_question_answer.ipynb\" target=\"_parent\"><img src=\"https://colab.research.google.com/assets/colab-badge.svg\" alt=\"Open In Colab\"/></a>"
      ]
    },
    {
      "cell_type": "code",
      "execution_count": 1,
      "metadata": {
        "colab": {
          "base_uri": "https://localhost:8080/"
        },
        "id": "agYttvtFbR56",
        "outputId": "c848e024-c63c-4069-fcd1-7b10871c00ab"
      },
      "outputs": [
        {
          "output_type": "stream",
          "name": "stdout",
          "text": [
            "Requirement already satisfied: datasets in /usr/local/lib/python3.10/dist-packages (2.20.0)\n",
            "Requirement already satisfied: filelock in /usr/local/lib/python3.10/dist-packages (from datasets) (3.15.4)\n",
            "Requirement already satisfied: numpy>=1.17 in /usr/local/lib/python3.10/dist-packages (from datasets) (1.26.4)\n",
            "Requirement already satisfied: pyarrow>=15.0.0 in /usr/local/lib/python3.10/dist-packages (from datasets) (17.0.0)\n",
            "Requirement already satisfied: pyarrow-hotfix in /usr/local/lib/python3.10/dist-packages (from datasets) (0.6)\n",
            "Requirement already satisfied: dill<0.3.9,>=0.3.0 in /usr/local/lib/python3.10/dist-packages (from datasets) (0.3.8)\n",
            "Requirement already satisfied: pandas in /usr/local/lib/python3.10/dist-packages (from datasets) (2.1.4)\n",
            "Requirement already satisfied: requests>=2.32.2 in /usr/local/lib/python3.10/dist-packages (from datasets) (2.32.3)\n",
            "Requirement already satisfied: tqdm>=4.66.3 in /usr/local/lib/python3.10/dist-packages (from datasets) (4.66.5)\n",
            "Requirement already satisfied: xxhash in /usr/local/lib/python3.10/dist-packages (from datasets) (3.4.1)\n",
            "Requirement already satisfied: multiprocess in /usr/local/lib/python3.10/dist-packages (from datasets) (0.70.16)\n",
            "Requirement already satisfied: fsspec<=2024.5.0,>=2023.1.0 in /usr/local/lib/python3.10/dist-packages (from fsspec[http]<=2024.5.0,>=2023.1.0->datasets) (2024.5.0)\n",
            "Requirement already satisfied: aiohttp in /usr/local/lib/python3.10/dist-packages (from datasets) (3.10.1)\n",
            "Requirement already satisfied: huggingface-hub>=0.21.2 in /usr/local/lib/python3.10/dist-packages (from datasets) (0.23.5)\n",
            "Requirement already satisfied: packaging in /usr/local/lib/python3.10/dist-packages (from datasets) (24.1)\n",
            "Requirement already satisfied: pyyaml>=5.1 in /usr/local/lib/python3.10/dist-packages (from datasets) (6.0.2)\n",
            "Requirement already satisfied: aiohappyeyeballs>=2.3.0 in /usr/local/lib/python3.10/dist-packages (from aiohttp->datasets) (2.3.4)\n",
            "Requirement already satisfied: aiosignal>=1.1.2 in /usr/local/lib/python3.10/dist-packages (from aiohttp->datasets) (1.3.1)\n",
            "Requirement already satisfied: attrs>=17.3.0 in /usr/local/lib/python3.10/dist-packages (from aiohttp->datasets) (24.2.0)\n",
            "Requirement already satisfied: frozenlist>=1.1.1 in /usr/local/lib/python3.10/dist-packages (from aiohttp->datasets) (1.4.1)\n",
            "Requirement already satisfied: multidict<7.0,>=4.5 in /usr/local/lib/python3.10/dist-packages (from aiohttp->datasets) (6.0.5)\n",
            "Requirement already satisfied: yarl<2.0,>=1.0 in /usr/local/lib/python3.10/dist-packages (from aiohttp->datasets) (1.9.4)\n",
            "Requirement already satisfied: async-timeout<5.0,>=4.0 in /usr/local/lib/python3.10/dist-packages (from aiohttp->datasets) (4.0.3)\n",
            "Requirement already satisfied: typing-extensions>=3.7.4.3 in /usr/local/lib/python3.10/dist-packages (from huggingface-hub>=0.21.2->datasets) (4.12.2)\n",
            "Requirement already satisfied: charset-normalizer<4,>=2 in /usr/local/lib/python3.10/dist-packages (from requests>=2.32.2->datasets) (3.3.2)\n",
            "Requirement already satisfied: idna<4,>=2.5 in /usr/local/lib/python3.10/dist-packages (from requests>=2.32.2->datasets) (3.7)\n",
            "Requirement already satisfied: urllib3<3,>=1.21.1 in /usr/local/lib/python3.10/dist-packages (from requests>=2.32.2->datasets) (1.26.19)\n",
            "Requirement already satisfied: certifi>=2017.4.17 in /usr/local/lib/python3.10/dist-packages (from requests>=2.32.2->datasets) (2024.7.4)\n",
            "Requirement already satisfied: python-dateutil>=2.8.2 in /usr/local/lib/python3.10/dist-packages (from pandas->datasets) (2.8.2)\n",
            "Requirement already satisfied: pytz>=2020.1 in /usr/local/lib/python3.10/dist-packages (from pandas->datasets) (2024.1)\n",
            "Requirement already satisfied: tzdata>=2022.1 in /usr/local/lib/python3.10/dist-packages (from pandas->datasets) (2024.1)\n",
            "Requirement already satisfied: six>=1.5 in /usr/local/lib/python3.10/dist-packages (from python-dateutil>=2.8.2->pandas->datasets) (1.16.0)\n"
          ]
        }
      ],
      "source": [
        "pip install datasets"
      ]
    },
    {
      "cell_type": "code",
      "source": [
        "#Uncomment and run this cell if you're on Colab or Kaggle\n",
        "!git clone https://github.com/nlp-with-transformers/notebooks.git\n",
        "%cd notebooks\n",
        "from install import *\n",
        "install_requirements(is_chapter7_v2=True)"
      ],
      "metadata": {
        "colab": {
          "base_uri": "https://localhost:8080/",
          "height": 471
        },
        "id": "MOP_ZgfELfQu",
        "outputId": "aa441314-c6cc-4aa9-d04e-40883cc4954d"
      },
      "execution_count": 41,
      "outputs": [
        {
          "output_type": "stream",
          "name": "stdout",
          "text": [
            "Cloning into 'notebooks'...\n",
            "remote: Enumerating objects: 526, done.\u001b[K\n",
            "remote: Counting objects: 100% (526/526), done.\u001b[K\n",
            "remote: Compressing objects: 100% (289/289), done.\u001b[K\n",
            "remote: Total 526 (delta 251), reused 480 (delta 231), pack-reused 0\u001b[K\n",
            "Receiving objects: 100% (526/526), 29.30 MiB | 15.50 MiB/s, done.\n",
            "Resolving deltas: 100% (251/251), done.\n",
            "/content/notebooks\n",
            "⏳ Installing base requirements ...\n"
          ]
        },
        {
          "output_type": "error",
          "ename": "Exception",
          "evalue": "😭 Failed to install base requirements",
          "traceback": [
            "\u001b[0;31m---------------------------------------------------------------------------\u001b[0m",
            "\u001b[0;31mException\u001b[0m                                 Traceback (most recent call last)",
            "\u001b[0;32m<ipython-input-41-b4eb85a7fd1f>\u001b[0m in \u001b[0;36m<cell line: 5>\u001b[0;34m()\u001b[0m\n\u001b[1;32m      3\u001b[0m \u001b[0mget_ipython\u001b[0m\u001b[0;34m(\u001b[0m\u001b[0;34m)\u001b[0m\u001b[0;34m.\u001b[0m\u001b[0mrun_line_magic\u001b[0m\u001b[0;34m(\u001b[0m\u001b[0;34m'cd'\u001b[0m\u001b[0;34m,\u001b[0m \u001b[0;34m'notebooks'\u001b[0m\u001b[0;34m)\u001b[0m\u001b[0;34m\u001b[0m\u001b[0;34m\u001b[0m\u001b[0m\n\u001b[1;32m      4\u001b[0m \u001b[0;32mfrom\u001b[0m \u001b[0minstall\u001b[0m \u001b[0;32mimport\u001b[0m \u001b[0;34m*\u001b[0m\u001b[0;34m\u001b[0m\u001b[0;34m\u001b[0m\u001b[0m\n\u001b[0;32m----> 5\u001b[0;31m \u001b[0minstall_requirements\u001b[0m\u001b[0;34m(\u001b[0m\u001b[0mis_chapter7_v2\u001b[0m\u001b[0;34m=\u001b[0m\u001b[0;32mTrue\u001b[0m\u001b[0;34m)\u001b[0m\u001b[0;34m\u001b[0m\u001b[0;34m\u001b[0m\u001b[0m\n\u001b[0m",
            "\u001b[0;32m/content/notebooks/install.py\u001b[0m in \u001b[0;36minstall_requirements\u001b[0;34m(is_chapter2, is_chapter6, is_chapter7, is_chapter7_v2, is_chapter10, is_chapter11)\u001b[0m\n\u001b[1;32m     29\u001b[0m     \u001b[0mprocess_install\u001b[0m \u001b[0;34m=\u001b[0m \u001b[0msubprocess\u001b[0m\u001b[0;34m.\u001b[0m\u001b[0mrun\u001b[0m\u001b[0;34m(\u001b[0m\u001b[0mcmd\u001b[0m\u001b[0;34m,\u001b[0m \u001b[0mstdout\u001b[0m\u001b[0;34m=\u001b[0m\u001b[0msubprocess\u001b[0m\u001b[0;34m.\u001b[0m\u001b[0mPIPE\u001b[0m\u001b[0;34m,\u001b[0m \u001b[0mstderr\u001b[0m\u001b[0;34m=\u001b[0m\u001b[0msubprocess\u001b[0m\u001b[0;34m.\u001b[0m\u001b[0mPIPE\u001b[0m\u001b[0;34m)\u001b[0m\u001b[0;34m\u001b[0m\u001b[0;34m\u001b[0m\u001b[0m\n\u001b[1;32m     30\u001b[0m     \u001b[0;32mif\u001b[0m \u001b[0mprocess_install\u001b[0m\u001b[0;34m.\u001b[0m\u001b[0mreturncode\u001b[0m \u001b[0;34m!=\u001b[0m \u001b[0;36m0\u001b[0m\u001b[0;34m:\u001b[0m\u001b[0;34m\u001b[0m\u001b[0;34m\u001b[0m\u001b[0m\n\u001b[0;32m---> 31\u001b[0;31m         \u001b[0;32mraise\u001b[0m \u001b[0mException\u001b[0m\u001b[0;34m(\u001b[0m\u001b[0;34m\"😭 Failed to install base requirements\"\u001b[0m\u001b[0;34m)\u001b[0m\u001b[0;34m\u001b[0m\u001b[0;34m\u001b[0m\u001b[0m\n\u001b[0m\u001b[1;32m     32\u001b[0m     \u001b[0;32melse\u001b[0m\u001b[0;34m:\u001b[0m\u001b[0;34m\u001b[0m\u001b[0;34m\u001b[0m\u001b[0m\n\u001b[1;32m     33\u001b[0m         \u001b[0mprint\u001b[0m\u001b[0;34m(\u001b[0m\u001b[0;34m\"✅ Base requirements installed!\"\u001b[0m\u001b[0;34m)\u001b[0m\u001b[0;34m\u001b[0m\u001b[0;34m\u001b[0m\u001b[0m\n",
            "\u001b[0;31mException\u001b[0m: 😭 Failed to install base requirements"
          ]
        }
      ]
    },
    {
      "cell_type": "code",
      "source": [
        "\n",
        "from utils import *\n",
        "setup_chapter()\n",
        ""
      ],
      "metadata": {
        "colab": {
          "base_uri": "https://localhost:8080/"
        },
        "id": "SGyh4LIaLn4o",
        "outputId": "d2d62f01-399d-4a7a-c18b-38c71371ea8d"
      },
      "execution_count": 42,
      "outputs": [
        {
          "output_type": "stream",
          "name": "stdout",
          "text": [
            "No GPU was detected! This notebook can be *very* slow without a GPU 🐢\n",
            "Go to Runtime > Change runtime type and select a GPU hardware accelerator.\n",
            "Using transformers v4.39.3\n",
            "Using datasets v2.20.0\n"
          ]
        }
      ]
    },
    {
      "cell_type": "code",
      "source": [
        "%env TOKENIZERS_PARALLELISM=false\n"
      ],
      "metadata": {
        "colab": {
          "base_uri": "https://localhost:8080/"
        },
        "id": "vsVW-8COLqPJ",
        "outputId": "8d39330c-3f8f-4b51-901d-63b00ede967b"
      },
      "execution_count": 43,
      "outputs": [
        {
          "output_type": "stream",
          "name": "stdout",
          "text": [
            "env: TOKENIZERS_PARALLELISM=false\n"
          ]
        }
      ]
    },
    {
      "cell_type": "code",
      "source": [],
      "metadata": {
        "id": "2RM3Tg5TLiqZ"
      },
      "execution_count": null,
      "outputs": []
    },
    {
      "cell_type": "markdown",
      "source": [
        "# Question Answering"
      ],
      "metadata": {
        "id": "viS4XJFybSYx"
      }
    },
    {
      "cell_type": "markdown",
      "source": [
        "There are many flavors of QA, but the most common is extractive QA, which involves\n",
        "questions whose answer can be identified as a span of text in a document, where the\n",
        "document might be a web page, legal contract, or news article. The two-stage process\n",
        "of first retrieving relevant documents and then extracting answers from them is also\n",
        "the basis for many modern QA systems, including semantic search engines, intelli‐\n",
        "gent assistants, and automated information extractors. In this chapter, we’ll apply this\n",
        "process to tackle a common problem facing ecommerce websites: helping consumers\n",
        "answer specific queries to evaluate a product. We’ll see that customer reviews can be\n",
        "used as a rich and challenging source of information for QA, and along the way we’ll\n",
        "learn how transformers act as powerful reading comprehension models that can\n",
        "extract meaning from text. Let’s begin by fleshing out the use case."
      ],
      "metadata": {
        "id": "eF7dKszubkkg"
      }
    },
    {
      "cell_type": "markdown",
      "source": [
        "This chapter focuses on extractive QA, but other forms of QA may\n",
        "be more suitable for your use case. For example, community QA\n",
        "involves gathering question-answer pairs that are generated by\n",
        "users on forums like Stack Overflow, and then using semantic sim‐\n",
        "ilarity search to find the closest matching answer to a new ques‐\n",
        "tion. There is also long-form QA, which aims to generate complex\n",
        "paragraph-length answers to open-ended questions like “Why is\n",
        "the sky blue?” Remarkably, it is also possible to do QA over tables,\n",
        "and transformer models like TAPAS can even perform aggrega‐\n",
        "tions to produce the final answer!"
      ],
      "metadata": {
        "id": "Arp6_udRbqSa"
      }
    },
    {
      "cell_type": "markdown",
      "source": [
        "# Building a Review-Based QA System\n",
        "\n",
        "The Dataset\n",
        "To build our QA system we’ll use the SubjQA dataset,2\n",
        "\n",
        "which consists of more than\n",
        "10,000 customer reviews in English about products and services in six domains: Trip‐\n",
        "Advisor, Restaurants, Movies, Books, Electronics, and Grocery.\n",
        "\n",
        "each review is associated with a question that can be answered using one\n",
        "or more sentences from the review.\n",
        "\n",
        "The interesting aspect of this dataset is that most of the questions and answers are\n",
        "subjective; that is, they depend on the personal experience of the users.\n",
        "\n",
        "\n",
        "First, the query is about “poor quality,” which is subjective and depends on the\n",
        "user’s definition of quality. Second, important parts of the query do not appear in the\n",
        "review at all, which means it cannot be answered with shortcuts like keyword search\n",
        "or paraphrasing the input question. These features make SubjQA a realistic dataset to\n",
        "benchmark our review-based QA models on,"
      ],
      "metadata": {
        "id": "kE3AAMi4btM_"
      }
    },
    {
      "cell_type": "markdown",
      "source": [
        "To get started, let’s download the dataset from the Hugging Face Hub. As we did in\n",
        "Chapter 4, we can use the get_dataset_config_names() function to find out which\n",
        "subsets are available:"
      ],
      "metadata": {
        "id": "mR3Niek-cGxA"
      }
    },
    {
      "cell_type": "code",
      "source": [
        "from datasets import get_dataset_config_names\n",
        "domains = get_dataset_config_names(\"subjqa\")\n",
        "domains"
      ],
      "metadata": {
        "colab": {
          "base_uri": "https://localhost:8080/"
        },
        "id": "tKRKI8Sfb0xt",
        "outputId": "6b20213e-fbe4-47b1-bece-4cefe0e16e6f"
      },
      "execution_count": 2,
      "outputs": [
        {
          "output_type": "execute_result",
          "data": {
            "text/plain": [
              "['books', 'electronics', 'grocery', 'movies', 'restaurants', 'tripadvisor']"
            ]
          },
          "metadata": {},
          "execution_count": 2
        }
      ]
    },
    {
      "cell_type": "code",
      "source": [
        "from datasets import load_dataset\n",
        "subjqa = load_dataset(\"subjqa\", name=\"electronics\")"
      ],
      "metadata": {
        "id": "3DcI9sqHbk_7"
      },
      "execution_count": 3,
      "outputs": []
    },
    {
      "cell_type": "code",
      "source": [
        "print(subjqa[\"train\"][\"answers\"][1])"
      ],
      "metadata": {
        "colab": {
          "base_uri": "https://localhost:8080/"
        },
        "id": "8FRr0XB6bTZe",
        "outputId": "89d6c224-71fa-4c8d-d869-307b281ff8bf"
      },
      "execution_count": 4,
      "outputs": [
        {
          "output_type": "stream",
          "name": "stdout",
          "text": [
            "{'text': ['Bass is weak as expected', 'Bass is weak as expected, even with EQ adjusted up'], 'answer_start': [1302, 1302], 'answer_subj_level': [1, 1], 'ans_subj_score': [0.5083333253860474, 0.5083333253860474], 'is_ans_subjective': [True, True]}\n"
          ]
        }
      ]
    },
    {
      "cell_type": "markdown",
      "source": [
        "To explore the dataset more easily, we’ll flatten these nested columns with the flatten() method and convert each split to a Pandas\n",
        "DataFrame as follows:"
      ],
      "metadata": {
        "id": "CU_Hp22Gch9r"
      }
    },
    {
      "cell_type": "code",
      "source": [
        "import pandas as pd\n",
        "\n",
        "dfs = {split: dset.to_pandas() for split, dset in subjqa.flatten().items()}\n",
        "\n",
        "\n",
        "for split, df in dfs.items():\n",
        "  print(f\"Number of questions in {split}: {df['id'].nunique()}\")"
      ],
      "metadata": {
        "colab": {
          "base_uri": "https://localhost:8080/"
        },
        "id": "q8oWwZvzcnwf",
        "outputId": "30fbb745-c932-4e91-c320-964c23751e5b"
      },
      "execution_count": 5,
      "outputs": [
        {
          "output_type": "stream",
          "name": "stdout",
          "text": [
            "Number of questions in train: 1295\n",
            "Number of questions in test: 358\n",
            "Number of questions in validation: 255\n"
          ]
        }
      ]
    },
    {
      "cell_type": "markdown",
      "source": [
        "Let’s focus on these columns and take a look at a few of the training examples. We can\n",
        "use the sample() method to select a random sample:"
      ],
      "metadata": {
        "id": "89rN02Jzc0gk"
      }
    },
    {
      "cell_type": "code",
      "source": [
        "qa_cols = [\"title\", \"question\", \"answers.text\",\"answers.answer_start\", \"context\"]\n",
        "sample_df = dfs[\"train\"][qa_cols].sample(2, random_state=7)\n",
        "sample_df"
      ],
      "metadata": {
        "colab": {
          "base_uri": "https://localhost:8080/",
          "height": 147
        },
        "id": "RPABbm6xc1BX",
        "outputId": "e5e0817a-64c2-4c2d-a2cd-081fc749a603"
      },
      "execution_count": 6,
      "outputs": [
        {
          "output_type": "execute_result",
          "data": {
            "text/plain": [
              "           title                        question                answers.text  \\\n",
              "791   B005DKZTMG  Does the keyboard lightweight?  [this keyboard is compact]   \n",
              "1159  B00AAIPT76             How is the battery?                          []   \n",
              "\n",
              "     answers.answer_start                                            context  \n",
              "791                 [215]  I really like this keyboard.  I give it 4 star...  \n",
              "1159                   []  I bought this after the first spare gopro batt...  "
            ],
            "text/html": [
              "\n",
              "  <div id=\"df-d60a7d41-7cf6-4bc5-a83a-5c19262d48ea\" class=\"colab-df-container\">\n",
              "    <div>\n",
              "<style scoped>\n",
              "    .dataframe tbody tr th:only-of-type {\n",
              "        vertical-align: middle;\n",
              "    }\n",
              "\n",
              "    .dataframe tbody tr th {\n",
              "        vertical-align: top;\n",
              "    }\n",
              "\n",
              "    .dataframe thead th {\n",
              "        text-align: right;\n",
              "    }\n",
              "</style>\n",
              "<table border=\"1\" class=\"dataframe\">\n",
              "  <thead>\n",
              "    <tr style=\"text-align: right;\">\n",
              "      <th></th>\n",
              "      <th>title</th>\n",
              "      <th>question</th>\n",
              "      <th>answers.text</th>\n",
              "      <th>answers.answer_start</th>\n",
              "      <th>context</th>\n",
              "    </tr>\n",
              "  </thead>\n",
              "  <tbody>\n",
              "    <tr>\n",
              "      <th>791</th>\n",
              "      <td>B005DKZTMG</td>\n",
              "      <td>Does the keyboard lightweight?</td>\n",
              "      <td>[this keyboard is compact]</td>\n",
              "      <td>[215]</td>\n",
              "      <td>I really like this keyboard.  I give it 4 star...</td>\n",
              "    </tr>\n",
              "    <tr>\n",
              "      <th>1159</th>\n",
              "      <td>B00AAIPT76</td>\n",
              "      <td>How is the battery?</td>\n",
              "      <td>[]</td>\n",
              "      <td>[]</td>\n",
              "      <td>I bought this after the first spare gopro batt...</td>\n",
              "    </tr>\n",
              "  </tbody>\n",
              "</table>\n",
              "</div>\n",
              "    <div class=\"colab-df-buttons\">\n",
              "\n",
              "  <div class=\"colab-df-container\">\n",
              "    <button class=\"colab-df-convert\" onclick=\"convertToInteractive('df-d60a7d41-7cf6-4bc5-a83a-5c19262d48ea')\"\n",
              "            title=\"Convert this dataframe to an interactive table.\"\n",
              "            style=\"display:none;\">\n",
              "\n",
              "  <svg xmlns=\"http://www.w3.org/2000/svg\" height=\"24px\" viewBox=\"0 -960 960 960\">\n",
              "    <path d=\"M120-120v-720h720v720H120Zm60-500h600v-160H180v160Zm220 220h160v-160H400v160Zm0 220h160v-160H400v160ZM180-400h160v-160H180v160Zm440 0h160v-160H620v160ZM180-180h160v-160H180v160Zm440 0h160v-160H620v160Z\"/>\n",
              "  </svg>\n",
              "    </button>\n",
              "\n",
              "  <style>\n",
              "    .colab-df-container {\n",
              "      display:flex;\n",
              "      gap: 12px;\n",
              "    }\n",
              "\n",
              "    .colab-df-convert {\n",
              "      background-color: #E8F0FE;\n",
              "      border: none;\n",
              "      border-radius: 50%;\n",
              "      cursor: pointer;\n",
              "      display: none;\n",
              "      fill: #1967D2;\n",
              "      height: 32px;\n",
              "      padding: 0 0 0 0;\n",
              "      width: 32px;\n",
              "    }\n",
              "\n",
              "    .colab-df-convert:hover {\n",
              "      background-color: #E2EBFA;\n",
              "      box-shadow: 0px 1px 2px rgba(60, 64, 67, 0.3), 0px 1px 3px 1px rgba(60, 64, 67, 0.15);\n",
              "      fill: #174EA6;\n",
              "    }\n",
              "\n",
              "    .colab-df-buttons div {\n",
              "      margin-bottom: 4px;\n",
              "    }\n",
              "\n",
              "    [theme=dark] .colab-df-convert {\n",
              "      background-color: #3B4455;\n",
              "      fill: #D2E3FC;\n",
              "    }\n",
              "\n",
              "    [theme=dark] .colab-df-convert:hover {\n",
              "      background-color: #434B5C;\n",
              "      box-shadow: 0px 1px 3px 1px rgba(0, 0, 0, 0.15);\n",
              "      filter: drop-shadow(0px 1px 2px rgba(0, 0, 0, 0.3));\n",
              "      fill: #FFFFFF;\n",
              "    }\n",
              "  </style>\n",
              "\n",
              "    <script>\n",
              "      const buttonEl =\n",
              "        document.querySelector('#df-d60a7d41-7cf6-4bc5-a83a-5c19262d48ea button.colab-df-convert');\n",
              "      buttonEl.style.display =\n",
              "        google.colab.kernel.accessAllowed ? 'block' : 'none';\n",
              "\n",
              "      async function convertToInteractive(key) {\n",
              "        const element = document.querySelector('#df-d60a7d41-7cf6-4bc5-a83a-5c19262d48ea');\n",
              "        const dataTable =\n",
              "          await google.colab.kernel.invokeFunction('convertToInteractive',\n",
              "                                                    [key], {});\n",
              "        if (!dataTable) return;\n",
              "\n",
              "        const docLinkHtml = 'Like what you see? Visit the ' +\n",
              "          '<a target=\"_blank\" href=https://colab.research.google.com/notebooks/data_table.ipynb>data table notebook</a>'\n",
              "          + ' to learn more about interactive tables.';\n",
              "        element.innerHTML = '';\n",
              "        dataTable['output_type'] = 'display_data';\n",
              "        await google.colab.output.renderOutput(dataTable, element);\n",
              "        const docLink = document.createElement('div');\n",
              "        docLink.innerHTML = docLinkHtml;\n",
              "        element.appendChild(docLink);\n",
              "      }\n",
              "    </script>\n",
              "  </div>\n",
              "\n",
              "\n",
              "<div id=\"df-e3a4d89b-f75c-4b3e-962c-3840365adf70\">\n",
              "  <button class=\"colab-df-quickchart\" onclick=\"quickchart('df-e3a4d89b-f75c-4b3e-962c-3840365adf70')\"\n",
              "            title=\"Suggest charts\"\n",
              "            style=\"display:none;\">\n",
              "\n",
              "<svg xmlns=\"http://www.w3.org/2000/svg\" height=\"24px\"viewBox=\"0 0 24 24\"\n",
              "     width=\"24px\">\n",
              "    <g>\n",
              "        <path d=\"M19 3H5c-1.1 0-2 .9-2 2v14c0 1.1.9 2 2 2h14c1.1 0 2-.9 2-2V5c0-1.1-.9-2-2-2zM9 17H7v-7h2v7zm4 0h-2V7h2v10zm4 0h-2v-4h2v4z\"/>\n",
              "    </g>\n",
              "</svg>\n",
              "  </button>\n",
              "\n",
              "<style>\n",
              "  .colab-df-quickchart {\n",
              "      --bg-color: #E8F0FE;\n",
              "      --fill-color: #1967D2;\n",
              "      --hover-bg-color: #E2EBFA;\n",
              "      --hover-fill-color: #174EA6;\n",
              "      --disabled-fill-color: #AAA;\n",
              "      --disabled-bg-color: #DDD;\n",
              "  }\n",
              "\n",
              "  [theme=dark] .colab-df-quickchart {\n",
              "      --bg-color: #3B4455;\n",
              "      --fill-color: #D2E3FC;\n",
              "      --hover-bg-color: #434B5C;\n",
              "      --hover-fill-color: #FFFFFF;\n",
              "      --disabled-bg-color: #3B4455;\n",
              "      --disabled-fill-color: #666;\n",
              "  }\n",
              "\n",
              "  .colab-df-quickchart {\n",
              "    background-color: var(--bg-color);\n",
              "    border: none;\n",
              "    border-radius: 50%;\n",
              "    cursor: pointer;\n",
              "    display: none;\n",
              "    fill: var(--fill-color);\n",
              "    height: 32px;\n",
              "    padding: 0;\n",
              "    width: 32px;\n",
              "  }\n",
              "\n",
              "  .colab-df-quickchart:hover {\n",
              "    background-color: var(--hover-bg-color);\n",
              "    box-shadow: 0 1px 2px rgba(60, 64, 67, 0.3), 0 1px 3px 1px rgba(60, 64, 67, 0.15);\n",
              "    fill: var(--button-hover-fill-color);\n",
              "  }\n",
              "\n",
              "  .colab-df-quickchart-complete:disabled,\n",
              "  .colab-df-quickchart-complete:disabled:hover {\n",
              "    background-color: var(--disabled-bg-color);\n",
              "    fill: var(--disabled-fill-color);\n",
              "    box-shadow: none;\n",
              "  }\n",
              "\n",
              "  .colab-df-spinner {\n",
              "    border: 2px solid var(--fill-color);\n",
              "    border-color: transparent;\n",
              "    border-bottom-color: var(--fill-color);\n",
              "    animation:\n",
              "      spin 1s steps(1) infinite;\n",
              "  }\n",
              "\n",
              "  @keyframes spin {\n",
              "    0% {\n",
              "      border-color: transparent;\n",
              "      border-bottom-color: var(--fill-color);\n",
              "      border-left-color: var(--fill-color);\n",
              "    }\n",
              "    20% {\n",
              "      border-color: transparent;\n",
              "      border-left-color: var(--fill-color);\n",
              "      border-top-color: var(--fill-color);\n",
              "    }\n",
              "    30% {\n",
              "      border-color: transparent;\n",
              "      border-left-color: var(--fill-color);\n",
              "      border-top-color: var(--fill-color);\n",
              "      border-right-color: var(--fill-color);\n",
              "    }\n",
              "    40% {\n",
              "      border-color: transparent;\n",
              "      border-right-color: var(--fill-color);\n",
              "      border-top-color: var(--fill-color);\n",
              "    }\n",
              "    60% {\n",
              "      border-color: transparent;\n",
              "      border-right-color: var(--fill-color);\n",
              "    }\n",
              "    80% {\n",
              "      border-color: transparent;\n",
              "      border-right-color: var(--fill-color);\n",
              "      border-bottom-color: var(--fill-color);\n",
              "    }\n",
              "    90% {\n",
              "      border-color: transparent;\n",
              "      border-bottom-color: var(--fill-color);\n",
              "    }\n",
              "  }\n",
              "</style>\n",
              "\n",
              "  <script>\n",
              "    async function quickchart(key) {\n",
              "      const quickchartButtonEl =\n",
              "        document.querySelector('#' + key + ' button');\n",
              "      quickchartButtonEl.disabled = true;  // To prevent multiple clicks.\n",
              "      quickchartButtonEl.classList.add('colab-df-spinner');\n",
              "      try {\n",
              "        const charts = await google.colab.kernel.invokeFunction(\n",
              "            'suggestCharts', [key], {});\n",
              "      } catch (error) {\n",
              "        console.error('Error during call to suggestCharts:', error);\n",
              "      }\n",
              "      quickchartButtonEl.classList.remove('colab-df-spinner');\n",
              "      quickchartButtonEl.classList.add('colab-df-quickchart-complete');\n",
              "    }\n",
              "    (() => {\n",
              "      let quickchartButtonEl =\n",
              "        document.querySelector('#df-e3a4d89b-f75c-4b3e-962c-3840365adf70 button');\n",
              "      quickchartButtonEl.style.display =\n",
              "        google.colab.kernel.accessAllowed ? 'block' : 'none';\n",
              "    })();\n",
              "  </script>\n",
              "</div>\n",
              "\n",
              "  <div id=\"id_c920310e-114c-46b1-8c3d-53c413eb56e2\">\n",
              "    <style>\n",
              "      .colab-df-generate {\n",
              "        background-color: #E8F0FE;\n",
              "        border: none;\n",
              "        border-radius: 50%;\n",
              "        cursor: pointer;\n",
              "        display: none;\n",
              "        fill: #1967D2;\n",
              "        height: 32px;\n",
              "        padding: 0 0 0 0;\n",
              "        width: 32px;\n",
              "      }\n",
              "\n",
              "      .colab-df-generate:hover {\n",
              "        background-color: #E2EBFA;\n",
              "        box-shadow: 0px 1px 2px rgba(60, 64, 67, 0.3), 0px 1px 3px 1px rgba(60, 64, 67, 0.15);\n",
              "        fill: #174EA6;\n",
              "      }\n",
              "\n",
              "      [theme=dark] .colab-df-generate {\n",
              "        background-color: #3B4455;\n",
              "        fill: #D2E3FC;\n",
              "      }\n",
              "\n",
              "      [theme=dark] .colab-df-generate:hover {\n",
              "        background-color: #434B5C;\n",
              "        box-shadow: 0px 1px 3px 1px rgba(0, 0, 0, 0.15);\n",
              "        filter: drop-shadow(0px 1px 2px rgba(0, 0, 0, 0.3));\n",
              "        fill: #FFFFFF;\n",
              "      }\n",
              "    </style>\n",
              "    <button class=\"colab-df-generate\" onclick=\"generateWithVariable('sample_df')\"\n",
              "            title=\"Generate code using this dataframe.\"\n",
              "            style=\"display:none;\">\n",
              "\n",
              "  <svg xmlns=\"http://www.w3.org/2000/svg\" height=\"24px\"viewBox=\"0 0 24 24\"\n",
              "       width=\"24px\">\n",
              "    <path d=\"M7,19H8.4L18.45,9,17,7.55,7,17.6ZM5,21V16.75L18.45,3.32a2,2,0,0,1,2.83,0l1.4,1.43a1.91,1.91,0,0,1,.58,1.4,1.91,1.91,0,0,1-.58,1.4L9.25,21ZM18.45,9,17,7.55Zm-12,3A5.31,5.31,0,0,0,4.9,8.1,5.31,5.31,0,0,0,1,6.5,5.31,5.31,0,0,0,4.9,4.9,5.31,5.31,0,0,0,6.5,1,5.31,5.31,0,0,0,8.1,4.9,5.31,5.31,0,0,0,12,6.5,5.46,5.46,0,0,0,6.5,12Z\"/>\n",
              "  </svg>\n",
              "    </button>\n",
              "    <script>\n",
              "      (() => {\n",
              "      const buttonEl =\n",
              "        document.querySelector('#id_c920310e-114c-46b1-8c3d-53c413eb56e2 button.colab-df-generate');\n",
              "      buttonEl.style.display =\n",
              "        google.colab.kernel.accessAllowed ? 'block' : 'none';\n",
              "\n",
              "      buttonEl.onclick = () => {\n",
              "        google.colab.notebook.generateWithVariable('sample_df');\n",
              "      }\n",
              "      })();\n",
              "    </script>\n",
              "  </div>\n",
              "\n",
              "    </div>\n",
              "  </div>\n"
            ],
            "application/vnd.google.colaboratory.intrinsic+json": {
              "type": "dataframe",
              "variable_name": "sample_df",
              "summary": "{\n  \"name\": \"sample_df\",\n  \"rows\": 2,\n  \"fields\": [\n    {\n      \"column\": \"title\",\n      \"properties\": {\n        \"dtype\": \"string\",\n        \"num_unique_values\": 2,\n        \"samples\": [\n          \"B00AAIPT76\",\n          \"B005DKZTMG\"\n        ],\n        \"semantic_type\": \"\",\n        \"description\": \"\"\n      }\n    },\n    {\n      \"column\": \"question\",\n      \"properties\": {\n        \"dtype\": \"string\",\n        \"num_unique_values\": 2,\n        \"samples\": [\n          \"How is the battery?\",\n          \"Does the keyboard lightweight?\"\n        ],\n        \"semantic_type\": \"\",\n        \"description\": \"\"\n      }\n    },\n    {\n      \"column\": \"answers.text\",\n      \"properties\": {\n        \"dtype\": \"object\",\n        \"semantic_type\": \"\",\n        \"description\": \"\"\n      }\n    },\n    {\n      \"column\": \"answers.answer_start\",\n      \"properties\": {\n        \"dtype\": \"object\",\n        \"semantic_type\": \"\",\n        \"description\": \"\"\n      }\n    },\n    {\n      \"column\": \"context\",\n      \"properties\": {\n        \"dtype\": \"string\",\n        \"num_unique_values\": 2,\n        \"samples\": [\n          \"I bought this after the first spare gopro battery I bought wouldn't hold a charge. I have very realistic expectations of this sort of product, I am skeptical of amazing stories of charge time and battery life but I do expect the batteries to hold a charge for a couple of weeks at least and for the charger to work like a charger. In this I was not disappointed. I am a river rafter and found that the gopro burns through power in a hurry so this purchase solved that issue. the batteries held a charge, on shorter trips the extra two batteries were enough and on longer trips I could use my friends JOOS Orange to recharge them.I just bought a newtrent xtreme powerpak and expect to be able to charge these with that so I will not run out of power again.\",\n          \"I really like this keyboard.  I give it 4 stars because it doesn't have a CAPS LOCK key so I never know if my caps are on.  But for the price, it really suffices as a wireless keyboard.  I have very large hands and this keyboard is compact, but I have no complaints.\"\n        ],\n        \"semantic_type\": \"\",\n        \"description\": \"\"\n      }\n    }\n  ]\n}"
            }
          },
          "metadata": {},
          "execution_count": 6
        }
      ]
    },
    {
      "cell_type": "markdown",
      "source": [
        "From these examples we can make a few observations. First, the questions are not\n",
        "grammatically correct, which is quite common in the FAQ sections of ecommerce\n",
        "websites. Second, an empty answers.text entry denotes “unanswerable” questions\n",
        "whose answer cannot be found in the review. Finally, we can use the start index and\n",
        "length of the answer span to slice out the span of text in the review that corresponds\n",
        "to the answer:"
      ],
      "metadata": {
        "id": "Tql7ZfhYdVwt"
      }
    },
    {
      "cell_type": "code",
      "source": [
        "start_idx = sample_df[\"answers.answer_start\"].iloc[0][0]\n",
        "end_idx = start_idx + len(sample_df[\"answers.text\"].iloc[0][0])\n",
        "sample_df[\"context\"].iloc[0][start_idx:end_idx]"
      ],
      "metadata": {
        "colab": {
          "base_uri": "https://localhost:8080/",
          "height": 36
        },
        "id": "372UrKRodhnN",
        "outputId": "440a7e1d-763b-4f4e-d2da-5138f1e6e859"
      },
      "execution_count": 7,
      "outputs": [
        {
          "output_type": "execute_result",
          "data": {
            "text/plain": [
              "'this keyboard is compact'"
            ],
            "application/vnd.google.colaboratory.intrinsic+json": {
              "type": "string"
            }
          },
          "metadata": {},
          "execution_count": 7
        }
      ]
    },
    {
      "cell_type": "markdown",
      "source": [
        "Next, let’s get a feel for what types of questions are in the training set by counting the\n",
        "questions that begin with a few common starting words:\n"
      ],
      "metadata": {
        "id": "CVciqFJVd1Qj"
      }
    },
    {
      "cell_type": "code",
      "source": [
        "import matplotlib.pyplot as plt\n",
        "\n",
        "counts = {}\n",
        "question_types = [\"What\", \"How\", \"Is\", \"Does\", \"Do\", \"Was\", \"Where\", \"Why\"]\n",
        "\n",
        "for q in question_types:\n",
        "  counts[q] = dfs[\"train\"][\"question\"].str.startswith(q).value_counts()[True]\n",
        "\n",
        "\n",
        "pd.Series(counts).sort_values().plot.barh()\n",
        "plt.title(\"Frequency of Question Types\")\n",
        "plt.show()"
      ],
      "metadata": {
        "colab": {
          "base_uri": "https://localhost:8080/",
          "height": 452
        },
        "id": "VL14kwp8d2pS",
        "outputId": "23e62eed-1320-4241-b9f0-a68c76d0b809"
      },
      "execution_count": 8,
      "outputs": [
        {
          "output_type": "display_data",
          "data": {
            "text/plain": [
              "<Figure size 640x480 with 1 Axes>"
            ],
            "image/png": "[encoded data removed]"
          },
          "metadata": {}
        }
      ]
    },
    {
      "cell_type": "markdown",
      "source": [
        "We can see that questions beginning with “How”, “What”, and “Is” are the most com‐\n",
        "mon ones, so let’s have a look at some examples:"
      ],
      "metadata": {
        "id": "3fOHZVfYeDV2"
      }
    },
    {
      "cell_type": "code",
      "source": [
        "for question_type in [\"How\", \"What\", \"Is\"]:\n",
        "  for question in (\n",
        "    dfs[\"train\"][dfs[\"train\"].question.str.startswith(question_type)]\n",
        "    .sample(n=3, random_state=42)['question']):\n",
        "    print(question)"
      ],
      "metadata": {
        "colab": {
          "base_uri": "https://localhost:8080/"
        },
        "id": "GMgTy2V7eDvi",
        "outputId": "0b1e878f-21a5-4830-f8c3-14351ee2c430"
      },
      "execution_count": 9,
      "outputs": [
        {
          "output_type": "stream",
          "name": "stdout",
          "text": [
            "How is the camera?\n",
            "How do you like the control?\n",
            "How fast is the charger?\n",
            "What is direction?\n",
            "What is the quality of the construction of the bag?\n",
            "What is your impression of the product?\n",
            "Is this how zoom works?\n",
            "Is sound clear?\n",
            "Is it a wireless keyboard?\n"
          ]
        }
      ]
    },
    {
      "cell_type": "markdown",
      "source": [
        "# Extracting Answers from Text"
      ],
      "metadata": {
        "id": "VTV1PHyJeM9b"
      }
    },
    {
      "cell_type": "markdown",
      "source": [
        "The first thing we’ll need for our QA system is to find a way to identify a potential\n",
        "answer as a span of text in a customer review. For example, if a we have a question\n",
        "like “Is it waterproof?” and the review passage is “This watch is waterproof at 30m\n",
        "depth”, then the model should output “waterproof at 30m”. To do this we’ll need to\n",
        "understand how to:\n",
        "- • Frame the supervised learning problem.\n",
        "- • Tokenize and encode text for QA tasks.\n",
        "- • Deal with long passages that exceed a model’s maximum context size.\n",
        "Let’s start by taking a look at how to frame the problem."
      ],
      "metadata": {
        "id": "7O58pu5TeaTY"
      }
    },
    {
      "cell_type": "markdown",
      "source": [
        "## Span classification\n",
        "The most common way to extract answers from text is by framing the problem as a\n",
        "span classification task, where the start and end tokens of an answer span act as the\n",
        "labels that a model needs to predict.\n",
        "\n",
        "\n",
        "Since our training set is relatively small, with only 1,295 examples, a good strategy is\n",
        "to start with a language model that has already been fine-tuned on a large-scale QA\n",
        "dataset like SQuAD. In general, these models have strong reading comprehension\n",
        "capabilities and serve as a good baseline upon which to build a more accurate system.\n",
        "\n",
        "For extractive QA, we can\n",
        "actually start with a fine-tuned model since the structure of the labels remains the\n",
        "same across datasets.\n",
        "\n",
        "You can find a list of extractive QA models by navigating to the Hugging Face Hub\n",
        "and searching for “squad” on the Models tab\n",
        "\n"
      ],
      "metadata": {
        "id": "XCn-jmoLezkA"
      }
    },
    {
      "cell_type": "markdown",
      "source": [
        "As you can see, at the time of writing, there are more than 350 QA models to choose\n",
        "from—so which one should you pick? In general, the answer depends on various fac‐\n",
        "tors like whether your corpus is mono- or multilingual and the constraints of run‐\n",
        "ning the model in a production environment. Table 7-2 lists a few models that\n",
        "provide a good foundation to build on."
      ],
      "metadata": {
        "id": "aoQIe6jdfEAn"
      }
    },
    {
      "cell_type": "markdown",
      "source": [
        "For the purposes of this chapter, we’ll use a fine-tuned MiniLM model since it is fast\n",
        "to train and will allow us to quickly iterate on the techniques that we’ll be exploring.8\n",
        "As usual, the first thing we need is a tokenizer to encode our texts, so let’s take a look\n",
        "at how this works for QA tasks."
      ],
      "metadata": {
        "id": "gW1UnKvofJAM"
      }
    },
    {
      "cell_type": "markdown",
      "source": [
        "## Tokenizing text for QA"
      ],
      "metadata": {
        "id": "eM0k3sGUfKnG"
      }
    },
    {
      "cell_type": "code",
      "source": [
        "from transformers import AutoTokenizer\n",
        "model_ckpt = \"deepset/minilm-uncased-squad2\"\n",
        "tokenizer = AutoTokenizer.from_pretrained(model_ckpt)"
      ],
      "metadata": {
        "id": "k6h5UeVtfNkb",
        "colab": {
          "base_uri": "https://localhost:8080/"
        },
        "outputId": "e369a617-4652-4d21-b65d-0c1342d74b60"
      },
      "execution_count": 10,
      "outputs": [
        {
          "output_type": "stream",
          "name": "stderr",
          "text": [
            "/usr/local/lib/python3.10/dist-packages/huggingface_hub/file_download.py:1132: FutureWarning: `resume_download` is deprecated and will be removed in version 1.0.0. Downloads always resume when possible. If you want to force a new download, use `force_download=True`.\n",
            "  warnings.warn(\n"
          ]
        }
      ]
    },
    {
      "cell_type": "code",
      "source": [
        "question = \"How much music can this hold?\"\n",
        "context = \"\"\"An MP3 is about 1 MB/minute, so about 6000 hours depending on \\\n",
        "file size.\"\"\"\n",
        "inputs = tokenizer(question, context, return_tensors=\"pt\")\n"
      ],
      "metadata": {
        "id": "_0gHMquOeXZP"
      },
      "execution_count": 11,
      "outputs": []
    },
    {
      "cell_type": "code",
      "source": [
        "inputs"
      ],
      "metadata": {
        "colab": {
          "base_uri": "https://localhost:8080/"
        },
        "id": "6virWzMB06gy",
        "outputId": "8b37d3c9-9491-4944-d16d-edfc030bf8a1"
      },
      "execution_count": 12,
      "outputs": [
        {
          "output_type": "execute_result",
          "data": {
            "text/plain": [
              "{'input_ids': tensor([[  101,  2129,  2172,  2189,  2064,  2023,  2907,  1029,   102,  2019,\n",
              "         23378,  2003,  2055,  1015, 16914,  1013,  3371,  1010,  2061,  2055,\n",
              "         25961,  2847,  5834,  2006,  5371,  2946,  1012,   102]]), 'token_type_ids': tensor([[0, 0, 0, 0, 0, 0, 0, 0, 0, 1, 1, 1, 1, 1, 1, 1, 1, 1, 1, 1, 1, 1, 1, 1,\n",
              "         1, 1, 1, 1]]), 'attention_mask': tensor([[1, 1, 1, 1, 1, 1, 1, 1, 1, 1, 1, 1, 1, 1, 1, 1, 1, 1, 1, 1, 1, 1, 1, 1,\n",
              "         1, 1, 1, 1]])}"
            ]
          },
          "metadata": {},
          "execution_count": 12
        }
      ]
    },
    {
      "cell_type": "code",
      "source": [
        "#hide_input\n",
        "input_df = pd.DataFrame.from_dict(tokenizer(question, context), orient=\"index\")\n",
        "input_df"
      ],
      "metadata": {
        "colab": {
          "base_uri": "https://localhost:8080/",
          "height": 193
        },
        "id": "7cWz_NtgfYZe",
        "outputId": "40b28f63-f025-4214-a803-9d7df6713870"
      },
      "execution_count": 13,
      "outputs": [
        {
          "output_type": "execute_result",
          "data": {
            "text/plain": [
              "                 0     1     2     3     4     5     6     7    8     9   ...  \\\n",
              "input_ids       101  2129  2172  2189  2064  2023  2907  1029  102  2019  ...   \n",
              "token_type_ids    0     0     0     0     0     0     0     0    0     1  ...   \n",
              "attention_mask    1     1     1     1     1     1     1     1    1     1  ...   \n",
              "\n",
              "                  18    19     20    21    22    23    24    25    26   27  \n",
              "input_ids       2061  2055  25961  2847  5834  2006  5371  2946  1012  102  \n",
              "token_type_ids     1     1      1     1     1     1     1     1     1    1  \n",
              "attention_mask     1     1      1     1     1     1     1     1     1    1  \n",
              "\n",
              "[3 rows x 28 columns]"
            ],
            "text/html": [
              "\n",
              "  <div id=\"df-548d4bd4-8ec2-4a0e-9715-955284799890\" class=\"colab-df-container\">\n",
              "    <div>\n",
              "<style scoped>\n",
              "    .dataframe tbody tr th:only-of-type {\n",
              "        vertical-align: middle;\n",
              "    }\n",
              "\n",
              "    .dataframe tbody tr th {\n",
              "        vertical-align: top;\n",
              "    }\n",
              "\n",
              "    .dataframe thead th {\n",
              "        text-align: right;\n",
              "    }\n",
              "</style>\n",
              "<table border=\"1\" class=\"dataframe\">\n",
              "  <thead>\n",
              "    <tr style=\"text-align: right;\">\n",
              "      <th></th>\n",
              "      <th>0</th>\n",
              "      <th>1</th>\n",
              "      <th>2</th>\n",
              "      <th>3</th>\n",
              "      <th>4</th>\n",
              "      <th>5</th>\n",
              "      <th>6</th>\n",
              "      <th>7</th>\n",
              "      <th>8</th>\n",
              "      <th>9</th>\n",
              "      <th>...</th>\n",
              "      <th>18</th>\n",
              "      <th>19</th>\n",
              "      <th>20</th>\n",
              "      <th>21</th>\n",
              "      <th>22</th>\n",
              "      <th>23</th>\n",
              "      <th>24</th>\n",
              "      <th>25</th>\n",
              "      <th>26</th>\n",
              "      <th>27</th>\n",
              "    </tr>\n",
              "  </thead>\n",
              "  <tbody>\n",
              "    <tr>\n",
              "      <th>input_ids</th>\n",
              "      <td>101</td>\n",
              "      <td>2129</td>\n",
              "      <td>2172</td>\n",
              "      <td>2189</td>\n",
              "      <td>2064</td>\n",
              "      <td>2023</td>\n",
              "      <td>2907</td>\n",
              "      <td>1029</td>\n",
              "      <td>102</td>\n",
              "      <td>2019</td>\n",
              "      <td>...</td>\n",
              "      <td>2061</td>\n",
              "      <td>2055</td>\n",
              "      <td>25961</td>\n",
              "      <td>2847</td>\n",
              "      <td>5834</td>\n",
              "      <td>2006</td>\n",
              "      <td>5371</td>\n",
              "      <td>2946</td>\n",
              "      <td>1012</td>\n",
              "      <td>102</td>\n",
              "    </tr>\n",
              "    <tr>\n",
              "      <th>token_type_ids</th>\n",
              "      <td>0</td>\n",
              "      <td>0</td>\n",
              "      <td>0</td>\n",
              "      <td>0</td>\n",
              "      <td>0</td>\n",
              "      <td>0</td>\n",
              "      <td>0</td>\n",
              "      <td>0</td>\n",
              "      <td>0</td>\n",
              "      <td>1</td>\n",
              "      <td>...</td>\n",
              "      <td>1</td>\n",
              "      <td>1</td>\n",
              "      <td>1</td>\n",
              "      <td>1</td>\n",
              "      <td>1</td>\n",
              "      <td>1</td>\n",
              "      <td>1</td>\n",
              "      <td>1</td>\n",
              "      <td>1</td>\n",
              "      <td>1</td>\n",
              "    </tr>\n",
              "    <tr>\n",
              "      <th>attention_mask</th>\n",
              "      <td>1</td>\n",
              "      <td>1</td>\n",
              "      <td>1</td>\n",
              "      <td>1</td>\n",
              "      <td>1</td>\n",
              "      <td>1</td>\n",
              "      <td>1</td>\n",
              "      <td>1</td>\n",
              "      <td>1</td>\n",
              "      <td>1</td>\n",
              "      <td>...</td>\n",
              "      <td>1</td>\n",
              "      <td>1</td>\n",
              "      <td>1</td>\n",
              "      <td>1</td>\n",
              "      <td>1</td>\n",
              "      <td>1</td>\n",
              "      <td>1</td>\n",
              "      <td>1</td>\n",
              "      <td>1</td>\n",
              "      <td>1</td>\n",
              "    </tr>\n",
              "  </tbody>\n",
              "</table>\n",
              "<p>3 rows × 28 columns</p>\n",
              "</div>\n",
              "    <div class=\"colab-df-buttons\">\n",
              "\n",
              "  <div class=\"colab-df-container\">\n",
              "    <button class=\"colab-df-convert\" onclick=\"convertToInteractive('df-548d4bd4-8ec2-4a0e-9715-955284799890')\"\n",
              "            title=\"Convert this dataframe to an interactive table.\"\n",
              "            style=\"display:none;\">\n",
              "\n",
              "  <svg xmlns=\"http://www.w3.org/2000/svg\" height=\"24px\" viewBox=\"0 -960 960 960\">\n",
              "    <path d=\"M120-120v-720h720v720H120Zm60-500h600v-160H180v160Zm220 220h160v-160H400v160Zm0 220h160v-160H400v160ZM180-400h160v-160H180v160Zm440 0h160v-160H620v160ZM180-180h160v-160H180v160Zm440 0h160v-160H620v160Z\"/>\n",
              "  </svg>\n",
              "    </button>\n",
              "\n",
              "  <style>\n",
              "    .colab-df-container {\n",
              "      display:flex;\n",
              "      gap: 12px;\n",
              "    }\n",
              "\n",
              "    .colab-df-convert {\n",
              "      background-color: #E8F0FE;\n",
              "      border: none;\n",
              "      border-radius: 50%;\n",
              "      cursor: pointer;\n",
              "      display: none;\n",
              "      fill: #1967D2;\n",
              "      height: 32px;\n",
              "      padding: 0 0 0 0;\n",
              "      width: 32px;\n",
              "    }\n",
              "\n",
              "    .colab-df-convert:hover {\n",
              "      background-color: #E2EBFA;\n",
              "      box-shadow: 0px 1px 2px rgba(60, 64, 67, 0.3), 0px 1px 3px 1px rgba(60, 64, 67, 0.15);\n",
              "      fill: #174EA6;\n",
              "    }\n",
              "\n",
              "    .colab-df-buttons div {\n",
              "      margin-bottom: 4px;\n",
              "    }\n",
              "\n",
              "    [theme=dark] .colab-df-convert {\n",
              "      background-color: #3B4455;\n",
              "      fill: #D2E3FC;\n",
              "    }\n",
              "\n",
              "    [theme=dark] .colab-df-convert:hover {\n",
              "      background-color: #434B5C;\n",
              "      box-shadow: 0px 1px 3px 1px rgba(0, 0, 0, 0.15);\n",
              "      filter: drop-shadow(0px 1px 2px rgba(0, 0, 0, 0.3));\n",
              "      fill: #FFFFFF;\n",
              "    }\n",
              "  </style>\n",
              "\n",
              "    <script>\n",
              "      const buttonEl =\n",
              "        document.querySelector('#df-548d4bd4-8ec2-4a0e-9715-955284799890 button.colab-df-convert');\n",
              "      buttonEl.style.display =\n",
              "        google.colab.kernel.accessAllowed ? 'block' : 'none';\n",
              "\n",
              "      async function convertToInteractive(key) {\n",
              "        const element = document.querySelector('#df-548d4bd4-8ec2-4a0e-9715-955284799890');\n",
              "        const dataTable =\n",
              "          await google.colab.kernel.invokeFunction('convertToInteractive',\n",
              "                                                    [key], {});\n",
              "        if (!dataTable) return;\n",
              "\n",
              "        const docLinkHtml = 'Like what you see? Visit the ' +\n",
              "          '<a target=\"_blank\" href=https://colab.research.google.com/notebooks/data_table.ipynb>data table notebook</a>'\n",
              "          + ' to learn more about interactive tables.';\n",
              "        element.innerHTML = '';\n",
              "        dataTable['output_type'] = 'display_data';\n",
              "        await google.colab.output.renderOutput(dataTable, element);\n",
              "        const docLink = document.createElement('div');\n",
              "        docLink.innerHTML = docLinkHtml;\n",
              "        element.appendChild(docLink);\n",
              "      }\n",
              "    </script>\n",
              "  </div>\n",
              "\n",
              "\n",
              "<div id=\"df-3120cd98-fdb3-4294-a3d4-e507dd9c5793\">\n",
              "  <button class=\"colab-df-quickchart\" onclick=\"quickchart('df-3120cd98-fdb3-4294-a3d4-e507dd9c5793')\"\n",
              "            title=\"Suggest charts\"\n",
              "            style=\"display:none;\">\n",
              "\n",
              "<svg xmlns=\"http://www.w3.org/2000/svg\" height=\"24px\"viewBox=\"0 0 24 24\"\n",
              "     width=\"24px\">\n",
              "    <g>\n",
              "        <path d=\"M19 3H5c-1.1 0-2 .9-2 2v14c0 1.1.9 2 2 2h14c1.1 0 2-.9 2-2V5c0-1.1-.9-2-2-2zM9 17H7v-7h2v7zm4 0h-2V7h2v10zm4 0h-2v-4h2v4z\"/>\n",
              "    </g>\n",
              "</svg>\n",
              "  </button>\n",
              "\n",
              "<style>\n",
              "  .colab-df-quickchart {\n",
              "      --bg-color: #E8F0FE;\n",
              "      --fill-color: #1967D2;\n",
              "      --hover-bg-color: #E2EBFA;\n",
              "      --hover-fill-color: #174EA6;\n",
              "      --disabled-fill-color: #AAA;\n",
              "      --disabled-bg-color: #DDD;\n",
              "  }\n",
              "\n",
              "  [theme=dark] .colab-df-quickchart {\n",
              "      --bg-color: #3B4455;\n",
              "      --fill-color: #D2E3FC;\n",
              "      --hover-bg-color: #434B5C;\n",
              "      --hover-fill-color: #FFFFFF;\n",
              "      --disabled-bg-color: #3B4455;\n",
              "      --disabled-fill-color: #666;\n",
              "  }\n",
              "\n",
              "  .colab-df-quickchart {\n",
              "    background-color: var(--bg-color);\n",
              "    border: none;\n",
              "    border-radius: 50%;\n",
              "    cursor: pointer;\n",
              "    display: none;\n",
              "    fill: var(--fill-color);\n",
              "    height: 32px;\n",
              "    padding: 0;\n",
              "    width: 32px;\n",
              "  }\n",
              "\n",
              "  .colab-df-quickchart:hover {\n",
              "    background-color: var(--hover-bg-color);\n",
              "    box-shadow: 0 1px 2px rgba(60, 64, 67, 0.3), 0 1px 3px 1px rgba(60, 64, 67, 0.15);\n",
              "    fill: var(--button-hover-fill-color);\n",
              "  }\n",
              "\n",
              "  .colab-df-quickchart-complete:disabled,\n",
              "  .colab-df-quickchart-complete:disabled:hover {\n",
              "    background-color: var(--disabled-bg-color);\n",
              "    fill: var(--disabled-fill-color);\n",
              "    box-shadow: none;\n",
              "  }\n",
              "\n",
              "  .colab-df-spinner {\n",
              "    border: 2px solid var(--fill-color);\n",
              "    border-color: transparent;\n",
              "    border-bottom-color: var(--fill-color);\n",
              "    animation:\n",
              "      spin 1s steps(1) infinite;\n",
              "  }\n",
              "\n",
              "  @keyframes spin {\n",
              "    0% {\n",
              "      border-color: transparent;\n",
              "      border-bottom-color: var(--fill-color);\n",
              "      border-left-color: var(--fill-color);\n",
              "    }\n",
              "    20% {\n",
              "      border-color: transparent;\n",
              "      border-left-color: var(--fill-color);\n",
              "      border-top-color: var(--fill-color);\n",
              "    }\n",
              "    30% {\n",
              "      border-color: transparent;\n",
              "      border-left-color: var(--fill-color);\n",
              "      border-top-color: var(--fill-color);\n",
              "      border-right-color: var(--fill-color);\n",
              "    }\n",
              "    40% {\n",
              "      border-color: transparent;\n",
              "      border-right-color: var(--fill-color);\n",
              "      border-top-color: var(--fill-color);\n",
              "    }\n",
              "    60% {\n",
              "      border-color: transparent;\n",
              "      border-right-color: var(--fill-color);\n",
              "    }\n",
              "    80% {\n",
              "      border-color: transparent;\n",
              "      border-right-color: var(--fill-color);\n",
              "      border-bottom-color: var(--fill-color);\n",
              "    }\n",
              "    90% {\n",
              "      border-color: transparent;\n",
              "      border-bottom-color: var(--fill-color);\n",
              "    }\n",
              "  }\n",
              "</style>\n",
              "\n",
              "  <script>\n",
              "    async function quickchart(key) {\n",
              "      const quickchartButtonEl =\n",
              "        document.querySelector('#' + key + ' button');\n",
              "      quickchartButtonEl.disabled = true;  // To prevent multiple clicks.\n",
              "      quickchartButtonEl.classList.add('colab-df-spinner');\n",
              "      try {\n",
              "        const charts = await google.colab.kernel.invokeFunction(\n",
              "            'suggestCharts', [key], {});\n",
              "      } catch (error) {\n",
              "        console.error('Error during call to suggestCharts:', error);\n",
              "      }\n",
              "      quickchartButtonEl.classList.remove('colab-df-spinner');\n",
              "      quickchartButtonEl.classList.add('colab-df-quickchart-complete');\n",
              "    }\n",
              "    (() => {\n",
              "      let quickchartButtonEl =\n",
              "        document.querySelector('#df-3120cd98-fdb3-4294-a3d4-e507dd9c5793 button');\n",
              "      quickchartButtonEl.style.display =\n",
              "        google.colab.kernel.accessAllowed ? 'block' : 'none';\n",
              "    })();\n",
              "  </script>\n",
              "</div>\n",
              "\n",
              "  <div id=\"id_7be647e5-5c91-4df2-8afd-cb1a6d282910\">\n",
              "    <style>\n",
              "      .colab-df-generate {\n",
              "        background-color: #E8F0FE;\n",
              "        border: none;\n",
              "        border-radius: 50%;\n",
              "        cursor: pointer;\n",
              "        display: none;\n",
              "        fill: #1967D2;\n",
              "        height: 32px;\n",
              "        padding: 0 0 0 0;\n",
              "        width: 32px;\n",
              "      }\n",
              "\n",
              "      .colab-df-generate:hover {\n",
              "        background-color: #E2EBFA;\n",
              "        box-shadow: 0px 1px 2px rgba(60, 64, 67, 0.3), 0px 1px 3px 1px rgba(60, 64, 67, 0.15);\n",
              "        fill: #174EA6;\n",
              "      }\n",
              "\n",
              "      [theme=dark] .colab-df-generate {\n",
              "        background-color: #3B4455;\n",
              "        fill: #D2E3FC;\n",
              "      }\n",
              "\n",
              "      [theme=dark] .colab-df-generate:hover {\n",
              "        background-color: #434B5C;\n",
              "        box-shadow: 0px 1px 3px 1px rgba(0, 0, 0, 0.15);\n",
              "        filter: drop-shadow(0px 1px 2px rgba(0, 0, 0, 0.3));\n",
              "        fill: #FFFFFF;\n",
              "      }\n",
              "    </style>\n",
              "    <button class=\"colab-df-generate\" onclick=\"generateWithVariable('input_df')\"\n",
              "            title=\"Generate code using this dataframe.\"\n",
              "            style=\"display:none;\">\n",
              "\n",
              "  <svg xmlns=\"http://www.w3.org/2000/svg\" height=\"24px\"viewBox=\"0 0 24 24\"\n",
              "       width=\"24px\">\n",
              "    <path d=\"M7,19H8.4L18.45,9,17,7.55,7,17.6ZM5,21V16.75L18.45,3.32a2,2,0,0,1,2.83,0l1.4,1.43a1.91,1.91,0,0,1,.58,1.4,1.91,1.91,0,0,1-.58,1.4L9.25,21ZM18.45,9,17,7.55Zm-12,3A5.31,5.31,0,0,0,4.9,8.1,5.31,5.31,0,0,0,1,6.5,5.31,5.31,0,0,0,4.9,4.9,5.31,5.31,0,0,0,6.5,1,5.31,5.31,0,0,0,8.1,4.9,5.31,5.31,0,0,0,12,6.5,5.46,5.46,0,0,0,6.5,12Z\"/>\n",
              "  </svg>\n",
              "    </button>\n",
              "    <script>\n",
              "      (() => {\n",
              "      const buttonEl =\n",
              "        document.querySelector('#id_7be647e5-5c91-4df2-8afd-cb1a6d282910 button.colab-df-generate');\n",
              "      buttonEl.style.display =\n",
              "        google.colab.kernel.accessAllowed ? 'block' : 'none';\n",
              "\n",
              "      buttonEl.onclick = () => {\n",
              "        google.colab.notebook.generateWithVariable('input_df');\n",
              "      }\n",
              "      })();\n",
              "    </script>\n",
              "  </div>\n",
              "\n",
              "    </div>\n",
              "  </div>\n"
            ],
            "application/vnd.google.colaboratory.intrinsic+json": {
              "type": "dataframe",
              "variable_name": "input_df"
            }
          },
          "metadata": {},
          "execution_count": 13
        }
      ]
    },
    {
      "cell_type": "markdown",
      "source": [
        "To understand how the tokenizer formats the inputs for QA tasks, let’s decode the\n",
        "input_ids tensor:"
      ],
      "metadata": {
        "id": "0zjN8UPgff3m"
      }
    },
    {
      "cell_type": "code",
      "source": [
        "print(tokenizer.decode(inputs[\"input_ids\"][0]))"
      ],
      "metadata": {
        "colab": {
          "base_uri": "https://localhost:8080/"
        },
        "id": "NYwO3PzWfcsx",
        "outputId": "82f85d92-a0dd-4e0d-d6f5-9502f2a71125"
      },
      "execution_count": 14,
      "outputs": [
        {
          "output_type": "stream",
          "name": "stdout",
          "text": [
            "[CLS] how much music can this hold? [SEP] an mp3 is about 1 mb / minute, so about 6000 hours depending on file size. [SEP]\n"
          ]
        }
      ]
    },
    {
      "cell_type": "markdown",
      "source": [
        "Now that our text is tokenized, we just need to instantiate the model with a QA head\n",
        "and run the inputs through the forward pass:"
      ],
      "metadata": {
        "id": "7gYbEUHyfj4v"
      }
    },
    {
      "cell_type": "code",
      "source": [
        "import torch\n",
        "\n",
        "from transformers import AutoModelForQuestionAnswering\n",
        "\n",
        "model = AutoModelForQuestionAnswering.from_pretrained(model_ckpt)\n",
        "\n",
        "with torch.no_grad():\n",
        "    outputs = model(**inputs)\n",
        "\n",
        "print(outputs)"
      ],
      "metadata": {
        "colab": {
          "base_uri": "https://localhost:8080/"
        },
        "id": "G2Cjo-9xflOm",
        "outputId": "9a20cd32-2490-48e8-f5de-01e465cddc75"
      },
      "execution_count": 15,
      "outputs": [
        {
          "output_type": "stream",
          "name": "stderr",
          "text": [
            "/usr/local/lib/python3.10/dist-packages/huggingface_hub/file_download.py:1132: FutureWarning: `resume_download` is deprecated and will be removed in version 1.0.0. Downloads always resume when possible. If you want to force a new download, use `force_download=True`.\n",
            "  warnings.warn(\n",
            "Some weights of the model checkpoint at deepset/minilm-uncased-squad2 were not used when initializing BertForQuestionAnswering: ['bert.pooler.dense.bias', 'bert.pooler.dense.weight']\n",
            "- This IS expected if you are initializing BertForQuestionAnswering from the checkpoint of a model trained on another task or with another architecture (e.g. initializing a BertForSequenceClassification model from a BertForPreTraining model).\n",
            "- This IS NOT expected if you are initializing BertForQuestionAnswering from the checkpoint of a model that you expect to be exactly identical (initializing a BertForSequenceClassification model from a BertForSequenceClassification model).\n"
          ]
        },
        {
          "output_type": "stream",
          "name": "stdout",
          "text": [
            "QuestionAnsweringModelOutput(loss=None, start_logits=tensor([[-0.9862, -4.7750, -5.4025, -5.2378, -5.2863, -5.5117, -4.9819, -6.1880,\n",
            "         -0.9862,  0.2596, -0.2144, -1.7136,  3.7806,  4.8561, -1.0546, -3.9097,\n",
            "         -1.7374, -4.5944, -1.4278,  3.9949,  5.0391, -0.2018, -3.0193, -4.8549,\n",
            "         -2.3107, -3.5110, -3.5713, -0.9862]]), end_logits=tensor([[-0.9623, -5.4733, -5.0326, -5.1639, -5.4278, -5.5151, -5.1749, -4.6233,\n",
            "         -0.9623, -3.7855, -0.8715, -3.7745, -3.0161, -1.1780,  0.1758, -2.7365,\n",
            "          4.8934,  0.3046, -3.1761, -3.2762,  0.8937,  5.6606, -0.3623, -4.9554,\n",
            "         -3.2531, -0.0914,  1.6211, -0.9623]]), hidden_states=None, attentions=None)\n"
          ]
        }
      ]
    },
    {
      "cell_type": "markdown",
      "source": [
        "Here we can see that we get a QuestionAnsweringModelOutput object as the output of\n",
        "the QA head. As illustrated in Figure 7-4, the QA head corresponds to a linear layer\n",
        "that takes the hidden states from the encoder and computes the logits for the start\n",
        "and end spans.10 This means that we treat QA as a form of token classification, similar\n",
        "to what we encountered for named entity recognition in Chapter 4. To convert the\n",
        "outputs into an answer span, we first need to get the logits for the start and end\n",
        "tokens:"
      ],
      "metadata": {
        "id": "gwon5u7rf0ld"
      }
    },
    {
      "cell_type": "code",
      "source": [
        "\n",
        "start_logits = outputs.start_logits\n",
        "end_logits = outputs.end_logits\n",
        "\n",
        "\n",
        "#If we compare the shapes of these logits to the input IDs:\n",
        "print(f\"Input IDs shape: {inputs.input_ids.size()}\")\n",
        "print(f\"Start logits shape: {start_logits.size()}\")\n",
        "print(f\"End logits shape: {end_logits.size()}\")"
      ],
      "metadata": {
        "colab": {
          "base_uri": "https://localhost:8080/"
        },
        "id": "ylUzPl15f1E9",
        "outputId": "42ddf9c7-8ed0-4ec5-8f5c-43bf35c1f02d"
      },
      "execution_count": 16,
      "outputs": [
        {
          "output_type": "stream",
          "name": "stdout",
          "text": [
            "Input IDs shape: torch.Size([1, 28])\n",
            "Start logits shape: torch.Size([1, 28])\n",
            "End logits shape: torch.Size([1, 28])\n"
          ]
        }
      ]
    },
    {
      "cell_type": "code",
      "source": [
        "start_logits"
      ],
      "metadata": {
        "colab": {
          "base_uri": "https://localhost:8080/"
        },
        "id": "lTLQJs3S1OWs",
        "outputId": "bb9f8ea1-4259-4c4d-84a8-7a085b8e127b"
      },
      "execution_count": 17,
      "outputs": [
        {
          "output_type": "execute_result",
          "data": {
            "text/plain": [
              "tensor([[-0.9862, -4.7750, -5.4025, -5.2378, -5.2863, -5.5117, -4.9819, -6.1880,\n",
              "         -0.9862,  0.2596, -0.2144, -1.7136,  3.7806,  4.8561, -1.0546, -3.9097,\n",
              "         -1.7374, -4.5944, -1.4278,  3.9949,  5.0391, -0.2018, -3.0193, -4.8549,\n",
              "         -2.3107, -3.5110, -3.5713, -0.9862]])"
            ]
          },
          "metadata": {},
          "execution_count": 17
        }
      ]
    },
    {
      "cell_type": "code",
      "source": [
        "#id qa-scores\n",
        "#caption Predicted logits for the start and end tokens; the token with the highest score is colored in orange\n",
        "\n",
        "# The idea for this visualisation comes from https://mccormickml.com/2020/03/10/question-answering-with-a-fine-tuned-BERT\n",
        "import numpy as np\n",
        "import matplotlib.pyplot as plt\n",
        "\n",
        "s_scores = start_logits.detach().numpy().flatten()\n",
        "e_scores = end_logits.detach().numpy().flatten()\n",
        "tokens = tokenizer.convert_ids_to_tokens(inputs[\"input_ids\"][0])\n",
        "\n",
        "fig, (ax1, ax2) = plt.subplots(nrows=2, sharex=True)\n",
        "colors = [\"C0\" if s != np.max(s_scores) else \"C1\" for s in s_scores]\n",
        "ax1.bar(x=tokens, height=s_scores, color=colors)\n",
        "ax1.set_ylabel(\"Start Scores\")\n",
        "colors = [\"C0\" if s != np.max(e_scores) else \"C1\" for s in e_scores]\n",
        "ax2.bar(x=tokens, height=e_scores, color=colors)\n",
        "ax2.set_ylabel(\"End Scores\")\n",
        "plt.xticks(rotation=\"vertical\")\n",
        "plt.show()"
      ],
      "metadata": {
        "colab": {
          "base_uri": "https://localhost:8080/",
          "height": 490
        },
        "id": "PQx1oi1YgNWo",
        "outputId": "43711c3e-362d-4425-ec99-2ccc1facf2be"
      },
      "execution_count": 18,
      "outputs": [
        {
          "output_type": "display_data",
          "data": {
            "text/plain": [
              "<Figure size 640x480 with 2 Axes>"
            ],
            "image/png": "[encoded data removed]"
          },
          "metadata": {}
        }
      ]
    },
    {
      "cell_type": "markdown",
      "source": [
        "we see that there are two logits (a start and end) associated with each input token. As\n",
        "illustrated in Figure 7-6, larger, positive logits correspond to more likely candidates\n",
        "for the start and end tokens. In this example we can see that the model assigns the\n",
        "highest start token logits to the numbers “1” and “6000”, which makes sense since our\n",
        "question is asking about a quantity. Similarly, we see that the end tokens with the\n",
        "highest logits are “minute” and “hours”."
      ],
      "metadata": {
        "id": "3Pfmcjsfgbzi"
      }
    },
    {
      "cell_type": "markdown",
      "source": [
        "To get the final answer, we can compute the argmax over the start and end token log‐\n",
        "its and then slice the span from the inputs. The following code performs these steps\n",
        "and decodes the result so we can print the resulting text:"
      ],
      "metadata": {
        "id": "R-FbDd-tgtTQ"
      }
    },
    {
      "cell_type": "code",
      "source": [
        "import torch\n",
        "start_idx = torch.argmax(start_logits)\n",
        "end_idx = torch.argmax(end_logits) + 1\n",
        "answer_span = inputs[\"input_ids\"][0][start_idx:end_idx]\n",
        "answer = tokenizer.decode(answer_span)\n",
        "print(f\"Question: {question}\")\n",
        "print(f\"Answer: {answer}\")"
      ],
      "metadata": {
        "colab": {
          "base_uri": "https://localhost:8080/"
        },
        "id": "mOP6NmkSge8J",
        "outputId": "f4603f52-7e69-455c-a107-97c25052928e"
      },
      "execution_count": 19,
      "outputs": [
        {
          "output_type": "stream",
          "name": "stdout",
          "text": [
            "Question: How much music can this hold?\n",
            "Answer: 6000 hours\n"
          ]
        }
      ]
    },
    {
      "cell_type": "markdown",
      "source": [
        "Great, it worked! In Transformers, all of these preprocessing and postprocessing\n",
        "steps are conveniently wrapped in a dedicated pipeline. We can instantiate the pipe‐\n",
        "line by passing our tokenizer and fine-tuned model as follows:"
      ],
      "metadata": {
        "id": "S387tXuhgz7-"
      }
    },
    {
      "cell_type": "code",
      "source": [
        "from transformers import pipeline\n",
        "pipe = pipeline(\"question-answering\", model=model, tokenizer=tokenizer)\n",
        "pipe(question=question, context=context, topk=3)"
      ],
      "metadata": {
        "colab": {
          "base_uri": "https://localhost:8080/"
        },
        "id": "q4eh7CQSg0jT",
        "outputId": "6eb2b178-b548-4fa5-f22a-fd168bd40b03"
      },
      "execution_count": 20,
      "outputs": [
        {
          "output_type": "stream",
          "name": "stderr",
          "text": [
            "/usr/local/lib/python3.10/dist-packages/transformers/pipelines/question_answering.py:326: UserWarning: topk parameter is deprecated, use top_k instead\n",
            "  warnings.warn(\"topk parameter is deprecated, use top_k instead\", UserWarning)\n"
          ]
        },
        {
          "output_type": "execute_result",
          "data": {
            "text/plain": [
              "[{'score': 0.2651614844799042, 'start': 38, 'end': 48, 'answer': '6000 hours'},\n",
              " {'score': 0.22082969546318054,\n",
              "  'start': 16,\n",
              "  'end': 48,\n",
              "  'answer': '1 MB/minute, so about 6000 hours'},\n",
              " {'score': 0.10253532975912094,\n",
              "  'start': 16,\n",
              "  'end': 27,\n",
              "  'answer': '1 MB/minute'}]"
            ]
          },
          "metadata": {},
          "execution_count": 20
        }
      ]
    },
    {
      "cell_type": "markdown",
      "source": [
        "In addition to the answer, the pipeline also returns the model’s probability estimate in\n",
        "the score field (obtained by taking a softmax over the logits). This is handy when we\n",
        "want to compare multiple answers within a single context."
      ],
      "metadata": {
        "id": "BHcdPzhZhAgs"
      }
    },
    {
      "cell_type": "code",
      "source": [
        "pipe(question=\"Why is there no data?\", context=context,\n",
        "     handle_impossible_answer=True)"
      ],
      "metadata": {
        "colab": {
          "base_uri": "https://localhost:8080/"
        },
        "id": "CO0MtMmwhLpo",
        "outputId": "f00487a6-7552-42af-ea19-a940caacf57f"
      },
      "execution_count": 21,
      "outputs": [
        {
          "output_type": "execute_result",
          "data": {
            "text/plain": [
              "{'score': 0.9068413972854614, 'start': 0, 'end': 0, 'answer': ''}"
            ]
          },
          "metadata": {},
          "execution_count": 21
        }
      ]
    },
    {
      "cell_type": "markdown",
      "source": [
        "## Dealing with long passages\n",
        "\n",
        "One subtlety faced by reading comprehension models is that the context often con‐\n",
        "tains more tokens than the maximum sequence length of the model (which is usually\n",
        "a few hundred tokens at most).\n",
        "\n",
        "a decent portion of the\n",
        "SubjQA training set contains question-context pairs that won’t fit within MiniLM’s\n",
        "context size of 512 tokens."
      ],
      "metadata": {
        "id": "DQOJjQ4HhDC_"
      }
    },
    {
      "cell_type": "code",
      "source": [
        "\n",
        "#hide_input\n",
        "#id subjqa-dist\n",
        "#caption Distribution of tokens for each question-context pair in the SubjQA training set\n",
        "def compute_input_length(row):\n",
        "    inputs = tokenizer(row[\"question\"], row[\"context\"])\n",
        "    return len(inputs[\"input_ids\"])\n",
        "\n",
        "dfs[\"train\"][\"n_tokens\"] = dfs[\"train\"].apply(compute_input_length, axis=1)\n",
        "\n",
        "fig, ax = plt.subplots()\n",
        "dfs[\"train\"][\"n_tokens\"].hist(bins=100, grid=False, ec=\"C0\", ax=ax)\n",
        "plt.xlabel(\"Number of tokens in question-context pair\")\n",
        "ax.axvline(x=512, ymin=0, ymax=1, linestyle=\"--\", color=\"C1\",\n",
        "           label=\"Maximum sequence length\")\n",
        "plt.legend()\n",
        "plt.ylabel(\"Count\")\n",
        "plt.show()"
      ],
      "metadata": {
        "colab": {
          "base_uri": "https://localhost:8080/",
          "height": 449
        },
        "id": "ii4OIjbmhSa_",
        "outputId": "15fbbf71-cdc3-4cf3-b32e-e052cd38bfe3"
      },
      "execution_count": 22,
      "outputs": [
        {
          "output_type": "display_data",
          "data": {
            "text/plain": [
              "<Figure size 640x480 with 1 Axes>"
            ],
            "image/png": "[encoded data removed]"
          },
          "metadata": {}
        }
      ]
    },
    {
      "cell_type": "markdown",
      "source": [
        "For other tasks, like text classification, we simply truncated long texts under the\n",
        "assumption that enough information was contained in the embedding of the [CLS]\n",
        "token to generate accurate predictions. For QA, however, this strategy is problematic\n",
        "because the answer to a question could lie near the end of the context and thus would\n",
        "be removed by truncation."
      ],
      "metadata": {
        "id": "yopaPPbOhhSB"
      }
    },
    {
      "cell_type": "markdown",
      "source": [
        "the standard way to deal with\n",
        "this is to apply a sliding window across the inputs, where each window contains a pas‐\n",
        "sage of tokens that fit in the model’s context."
      ],
      "metadata": {
        "id": "QGnqoJ4ZhqS2"
      }
    },
    {
      "cell_type": "markdown",
      "source": [
        "In Transformers, we can set return_overflowing_tokens=True in the tokenizer to\n",
        "enable the sliding window. The size of the sliding window is controlled by the\n",
        "max_seq_length argument, and the size of the stride is controlled by doc_stride."
      ],
      "metadata": {
        "id": "PEQEGLphh4L_"
      }
    },
    {
      "cell_type": "markdown",
      "source": [
        "Let’s grab the first example from our training set and define a small window to illus‐\n",
        "trate how this works:"
      ],
      "metadata": {
        "id": "CGaCHFURh5g-"
      }
    },
    {
      "cell_type": "code",
      "source": [
        "example = dfs[\"train\"].iloc[0][[\"question\", \"context\"]]\n",
        "tokenized_example = tokenizer(example[\"question\"], example[\"context\"],\n",
        "return_overflowing_tokens=True, max_length=100,\n",
        "stride=25)"
      ],
      "metadata": {
        "colab": {
          "base_uri": "https://localhost:8080/"
        },
        "id": "1ke9_-NPh7Hs",
        "outputId": "9a073736-1507-4f28-f917-2aaafeb9b19a"
      },
      "execution_count": 23,
      "outputs": [
        {
          "output_type": "stream",
          "name": "stderr",
          "text": [
            "Truncation was not explicitly activated but `max_length` is provided a specific value, please use `truncation=True` to explicitly truncate examples to max length. Defaulting to 'longest_first' truncation strategy. If you encode pairs of sequences (GLUE-style) with the tokenizer you can select this strategy more precisely by providing a specific strategy to `truncation`.\n"
          ]
        }
      ]
    },
    {
      "cell_type": "markdown",
      "source": [
        "In this case we now get a list of input_ids, one for each window. Let’s check the num‐\n",
        "ber of tokens we have in each window:"
      ],
      "metadata": {
        "id": "5S9HggQgh_Mm"
      }
    },
    {
      "cell_type": "code",
      "source": [
        "for idx, window in enumerate(tokenized_example[\"input_ids\"]):\n",
        "  print(f\"Window #{idx} has {len(window)} tokens\")"
      ],
      "metadata": {
        "colab": {
          "base_uri": "https://localhost:8080/"
        },
        "id": "hPvIvCDfh_o0",
        "outputId": "fbd584b5-23a6-46c3-a4bd-6d6a68045c9d"
      },
      "execution_count": 24,
      "outputs": [
        {
          "output_type": "stream",
          "name": "stdout",
          "text": [
            "Window #0 has 100 tokens\n",
            "Window #1 has 88 tokens\n"
          ]
        }
      ]
    },
    {
      "cell_type": "code",
      "source": [
        "# Finally, we can see where two windows overlap by decoding the inputs:\n",
        "for window in tokenized_example[\"input_ids\"]:\n",
        "    print(f\"{tokenizer.decode(window)} \\n\")"
      ],
      "metadata": {
        "colab": {
          "base_uri": "https://localhost:8080/"
        },
        "id": "SJv4o0Q8hDzx",
        "outputId": "d9a24606-b09e-4e65-fcf9-add992830614"
      },
      "execution_count": 25,
      "outputs": [
        {
          "output_type": "stream",
          "name": "stdout",
          "text": [
            "[CLS] how is the bass? [SEP] i have had koss headphones in the past, pro 4aa and qz - 99. the koss portapro is portable and has great bass response. the work great with my android phone and can be \" rolled up \" to be carried in my motorcycle jacket or computer bag without getting crunched. they are very light and do not feel heavy or bear down on your ears even after listening to music with them on all day. the sound is [SEP] \n",
            "\n",
            "[CLS] how is the bass? [SEP] and do not feel heavy or bear down on your ears even after listening to music with them on all day. the sound is night and day better than any ear - bud could be and are almost as good as the pro 4aa. they are \" open air \" headphones so you cannot match the bass to the sealed types, but it comes close. for $ 32, you cannot go wrong. [SEP] \n",
            "\n"
          ]
        }
      ]
    },
    {
      "cell_type": "markdown",
      "source": [
        "let’s look at the other components we need to build an end-to-end QA pipeline."
      ],
      "metadata": {
        "id": "Zw_cohKDiN4N"
      }
    },
    {
      "cell_type": "markdown",
      "source": [
        "# Using Haystack to Build a QA Pipeline\n",
        "\n",
        "However, in reality our system’s users will only provide a question\n",
        "about a product, so we need some way of selecting relevant passages from among all\n",
        "the reviews in our corpus.\n",
        "\n",
        "\n",
        "\n",
        "One way to do this would be to concatenate all the reviews\n",
        "of a given product together and feed them to the model as a single, long context.\n",
        "Although simple, the drawback of this approach is that the context can become\n",
        "extremely long and thereby introduce an unacceptable latency for our users’ queries.\n",
        "\n",
        "\n",
        "To handle this, modern QA systems are typically based on the retriever-reader archi‐\n",
        "tecture, which has two main components:"
      ],
      "metadata": {
        "id": "Sj5HHp5EiQYF"
      }
    },
    {
      "cell_type": "code",
      "source": [],
      "metadata": {
        "id": "3ckev4m052_F"
      },
      "execution_count": 25,
      "outputs": []
    },
    {
      "cell_type": "markdown",
      "source": [
        "**Retriever**\n",
        "\n",
        "Responsible for retrieving relevant documents for a given query. Retrievers are\n",
        "usually categorized as sparse or dense.\n",
        "\n",
        "1. Sparse retrievers use word frequencies to\n",
        "represent each document and query as a sparse vector\n",
        "\n",
        "2. On the other hand, dense retrievers use encoders like transformers to repre‐\n",
        "sent the query and document as contextualized embeddings (which are dense\n",
        "vectors). These embeddings encode semantic meaning, and allow dense retriev‐\n",
        "ers to improve search accuracy by understanding the content of the query.\n",
        "\n",
        "\n",
        "**Reader**\n",
        "\n",
        "Responsible for extracting an answer from the documents provided by the\n",
        "retriever. The reader is usually a reading comprehension model,"
      ],
      "metadata": {
        "id": "_T3O6PmlkCaa"
      }
    },
    {
      "cell_type": "markdown",
      "source": [
        "To build our QA system, we’ll use the Haystack library developed by deepset, a Ger‐\n",
        "man company focused on NLP. Haystack is based on the retriever-reader architec‐\n",
        "ture, abstracts much of the complexity involved in building these systems, and\n",
        "integrates tightly with Transformers."
      ],
      "metadata": {
        "id": "nityTZhckniS"
      }
    },
    {
      "cell_type": "markdown",
      "source": [
        "there are two more components involved\n",
        "when building a QA pipeline with Haystack:\n",
        "1. Document store\n",
        "\n",
        "A document-oriented database that stores documents and metadata which are\n",
        "provided to the retriever at query time\n",
        "2. Pipeline\n",
        "\n",
        "Combines all the components of a QA system to enable custom query flows,\n",
        "merging documents from multiple retrievers, and more"
      ],
      "metadata": {
        "id": "KD_3fdehkroG"
      }
    },
    {
      "cell_type": "markdown",
      "source": [
        "To initialize the document store, we first need to download and install Elasticsearch.\n",
        "By following Elasticsearch’s guide,\n",
        "\n",
        "12 we can grab the latest release for Linux with wget\n",
        "\n",
        "and unpack it with the tar shell command:"
      ],
      "metadata": {
        "id": "LDRHUI0clUMh"
      }
    },
    {
      "cell_type": "code",
      "source": [
        "url = \"\"\"https://artifacts.elastic.co/downloads/elasticsearch/\\\n",
        "elasticsearch-7.9.2-linux-x86_64.tar.gz\"\"\"\n",
        "!wget -nc -q {url}\n",
        "!tar -xzf elasticsearch-7.9.2-linux-x86_64.tar.gz"
      ],
      "metadata": {
        "id": "BqfgVtKglUnE"
      },
      "execution_count": 29,
      "outputs": []
    },
    {
      "cell_type": "markdown",
      "source": [
        "Next we need to start the Elasticsearch server. Since we’re running all the code in this\n",
        "book within Jupyter notebooks, we’ll need to use Python’s Popen() function to spawn a new process. While we’re at it, let’s also run the subprocess in the background using\n",
        "the chown shell command:"
      ],
      "metadata": {
        "id": "tYzshp4Rlcmq"
      }
    },
    {
      "cell_type": "code",
      "source": [
        "import os\n",
        "from subprocess import Popen, PIPE, STDOUT\n",
        "# Run Elasticsearch as a background process\n",
        "!chown -R daemon:daemon elasticsearch-7.9.2\n",
        "es_server = Popen(args=['elasticsearch-7.9.2/bin/elasticsearch'],\n",
        "stdout=PIPE, stderr=STDOUT, preexec_fn=lambda: os.setuid(1))\n",
        "# Wait until Elasticsearch has started\n",
        "!sleep 30"
      ],
      "metadata": {
        "id": "L0B1xI1UlgPW"
      },
      "execution_count": 30,
      "outputs": []
    },
    {
      "cell_type": "markdown",
      "source": [
        "By default, Elasticsearch runs locally on port 9200, so we can test\n",
        "the connection by sending an HTTP request to localhost:"
      ],
      "metadata": {
        "id": "M-Kfe_Rxloa0"
      }
    },
    {
      "cell_type": "code",
      "source": [
        "!curl -X GET \"localhost:9200/\"\n"
      ],
      "metadata": {
        "colab": {
          "base_uri": "https://localhost:8080/"
        },
        "id": "o8TH3IIylqAL",
        "outputId": "b364ac35-e9d1-468c-c629-a33cb39db106"
      },
      "execution_count": 31,
      "outputs": [
        {
          "output_type": "stream",
          "name": "stdout",
          "text": [
            "curl: (7) Failed to connect to localhost port 9200 after 2 ms: Connection refused\n"
          ]
        }
      ]
    },
    {
      "cell_type": "code",
      "source": [
        "!cat /content/elasticsearch-7.9.2/config/elasticsearch.yml | grep \"http.port\"\n"
      ],
      "metadata": {
        "colab": {
          "base_uri": "https://localhost:8080/"
        },
        "id": "Q7x6_lOAHjE5",
        "outputId": "ac7e20d3-85fc-4b1a-df58-5d85f3dff0de"
      },
      "execution_count": 36,
      "outputs": [
        {
          "output_type": "stream",
          "name": "stdout",
          "text": [
            "#http.port: 9200\n"
          ]
        }
      ]
    },
    {
      "cell_type": "code",
      "source": [
        "%%bash\n",
        "!netstat -tuln | grep LISTEN\n"
      ],
      "metadata": {
        "colab": {
          "base_uri": "https://localhost:8080/",
          "height": 339
        },
        "id": "dhIfnfwBHajC",
        "outputId": "dedfa307-6113-4de0-8d13-6b6e96e27510"
      },
      "execution_count": 35,
      "outputs": [
        {
          "output_type": "stream",
          "name": "stderr",
          "text": [
            "bash: line 1: !netstat: command not found\n"
          ]
        },
        {
          "output_type": "error",
          "ename": "CalledProcessError",
          "evalue": "Command 'b'!netstat -tuln | grep LISTEN\\n'' returned non-zero exit status 1.",
          "traceback": [
            "\u001b[0;31m---------------------------------------------------------------------------\u001b[0m",
            "\u001b[0;31mCalledProcessError\u001b[0m                        Traceback (most recent call last)",
            "\u001b[0;32m<ipython-input-35-a01f0e177931>\u001b[0m in \u001b[0;36m<cell line: 1>\u001b[0;34m()\u001b[0m\n\u001b[0;32m----> 1\u001b[0;31m \u001b[0mget_ipython\u001b[0m\u001b[0;34m(\u001b[0m\u001b[0;34m)\u001b[0m\u001b[0;34m.\u001b[0m\u001b[0mrun_cell_magic\u001b[0m\u001b[0;34m(\u001b[0m\u001b[0;34m'bash'\u001b[0m\u001b[0;34m,\u001b[0m \u001b[0;34m''\u001b[0m\u001b[0;34m,\u001b[0m \u001b[0;34m'!netstat -tuln | grep LISTEN\\n'\u001b[0m\u001b[0;34m)\u001b[0m\u001b[0;34m\u001b[0m\u001b[0;34m\u001b[0m\u001b[0m\n\u001b[0m",
            "\u001b[0;32m/usr/local/lib/python3.10/dist-packages/google/colab/_shell.py\u001b[0m in \u001b[0;36mrun_cell_magic\u001b[0;34m(self, magic_name, line, cell)\u001b[0m\n\u001b[1;32m    332\u001b[0m     \u001b[0;32mif\u001b[0m \u001b[0mline\u001b[0m \u001b[0;32mand\u001b[0m \u001b[0;32mnot\u001b[0m \u001b[0mcell\u001b[0m\u001b[0;34m:\u001b[0m\u001b[0;34m\u001b[0m\u001b[0;34m\u001b[0m\u001b[0m\n\u001b[1;32m    333\u001b[0m       \u001b[0mcell\u001b[0m \u001b[0;34m=\u001b[0m \u001b[0;34m' '\u001b[0m\u001b[0;34m\u001b[0m\u001b[0;34m\u001b[0m\u001b[0m\n\u001b[0;32m--> 334\u001b[0;31m     \u001b[0;32mreturn\u001b[0m \u001b[0msuper\u001b[0m\u001b[0;34m(\u001b[0m\u001b[0;34m)\u001b[0m\u001b[0;34m.\u001b[0m\u001b[0mrun_cell_magic\u001b[0m\u001b[0;34m(\u001b[0m\u001b[0mmagic_name\u001b[0m\u001b[0;34m,\u001b[0m \u001b[0mline\u001b[0m\u001b[0;34m,\u001b[0m \u001b[0mcell\u001b[0m\u001b[0;34m)\u001b[0m\u001b[0;34m\u001b[0m\u001b[0;34m\u001b[0m\u001b[0m\n\u001b[0m\u001b[1;32m    335\u001b[0m \u001b[0;34m\u001b[0m\u001b[0m\n\u001b[1;32m    336\u001b[0m \u001b[0;34m\u001b[0m\u001b[0m\n",
            "\u001b[0;32m/usr/local/lib/python3.10/dist-packages/IPython/core/interactiveshell.py\u001b[0m in \u001b[0;36mrun_cell_magic\u001b[0;34m(self, magic_name, line, cell)\u001b[0m\n\u001b[1;32m   2471\u001b[0m             \u001b[0;32mwith\u001b[0m \u001b[0mself\u001b[0m\u001b[0;34m.\u001b[0m\u001b[0mbuiltin_trap\u001b[0m\u001b[0;34m:\u001b[0m\u001b[0;34m\u001b[0m\u001b[0;34m\u001b[0m\u001b[0m\n\u001b[1;32m   2472\u001b[0m                 \u001b[0margs\u001b[0m \u001b[0;34m=\u001b[0m \u001b[0;34m(\u001b[0m\u001b[0mmagic_arg_s\u001b[0m\u001b[0;34m,\u001b[0m \u001b[0mcell\u001b[0m\u001b[0;34m)\u001b[0m\u001b[0;34m\u001b[0m\u001b[0;34m\u001b[0m\u001b[0m\n\u001b[0;32m-> 2473\u001b[0;31m                 \u001b[0mresult\u001b[0m \u001b[0;34m=\u001b[0m \u001b[0mfn\u001b[0m\u001b[0;34m(\u001b[0m\u001b[0;34m*\u001b[0m\u001b[0margs\u001b[0m\u001b[0;34m,\u001b[0m \u001b[0;34m**\u001b[0m\u001b[0mkwargs\u001b[0m\u001b[0;34m)\u001b[0m\u001b[0;34m\u001b[0m\u001b[0;34m\u001b[0m\u001b[0m\n\u001b[0m\u001b[1;32m   2474\u001b[0m             \u001b[0;32mreturn\u001b[0m \u001b[0mresult\u001b[0m\u001b[0;34m\u001b[0m\u001b[0;34m\u001b[0m\u001b[0m\n\u001b[1;32m   2475\u001b[0m \u001b[0;34m\u001b[0m\u001b[0m\n",
            "\u001b[0;32m/usr/local/lib/python3.10/dist-packages/IPython/core/magics/script.py\u001b[0m in \u001b[0;36mnamed_script_magic\u001b[0;34m(line, cell)\u001b[0m\n\u001b[1;32m    140\u001b[0m             \u001b[0;32melse\u001b[0m\u001b[0;34m:\u001b[0m\u001b[0;34m\u001b[0m\u001b[0;34m\u001b[0m\u001b[0m\n\u001b[1;32m    141\u001b[0m                 \u001b[0mline\u001b[0m \u001b[0;34m=\u001b[0m \u001b[0mscript\u001b[0m\u001b[0;34m\u001b[0m\u001b[0;34m\u001b[0m\u001b[0m\n\u001b[0;32m--> 142\u001b[0;31m             \u001b[0;32mreturn\u001b[0m \u001b[0mself\u001b[0m\u001b[0;34m.\u001b[0m\u001b[0mshebang\u001b[0m\u001b[0;34m(\u001b[0m\u001b[0mline\u001b[0m\u001b[0;34m,\u001b[0m \u001b[0mcell\u001b[0m\u001b[0;34m)\u001b[0m\u001b[0;34m\u001b[0m\u001b[0;34m\u001b[0m\u001b[0m\n\u001b[0m\u001b[1;32m    143\u001b[0m \u001b[0;34m\u001b[0m\u001b[0m\n\u001b[1;32m    144\u001b[0m         \u001b[0;31m# write a basic docstring:\u001b[0m\u001b[0;34m\u001b[0m\u001b[0;34m\u001b[0m\u001b[0m\n",
            "\u001b[0;32m<decorator-gen-103>\u001b[0m in \u001b[0;36mshebang\u001b[0;34m(self, line, cell)\u001b[0m\n",
            "\u001b[0;32m/usr/local/lib/python3.10/dist-packages/IPython/core/magic.py\u001b[0m in \u001b[0;36m<lambda>\u001b[0;34m(f, *a, **k)\u001b[0m\n\u001b[1;32m    185\u001b[0m     \u001b[0;31m# but it's overkill for just that one bit of state.\u001b[0m\u001b[0;34m\u001b[0m\u001b[0;34m\u001b[0m\u001b[0m\n\u001b[1;32m    186\u001b[0m     \u001b[0;32mdef\u001b[0m \u001b[0mmagic_deco\u001b[0m\u001b[0;34m(\u001b[0m\u001b[0marg\u001b[0m\u001b[0;34m)\u001b[0m\u001b[0;34m:\u001b[0m\u001b[0;34m\u001b[0m\u001b[0;34m\u001b[0m\u001b[0m\n\u001b[0;32m--> 187\u001b[0;31m         \u001b[0mcall\u001b[0m \u001b[0;34m=\u001b[0m \u001b[0;32mlambda\u001b[0m \u001b[0mf\u001b[0m\u001b[0;34m,\u001b[0m \u001b[0;34m*\u001b[0m\u001b[0ma\u001b[0m\u001b[0;34m,\u001b[0m \u001b[0;34m**\u001b[0m\u001b[0mk\u001b[0m\u001b[0;34m:\u001b[0m \u001b[0mf\u001b[0m\u001b[0;34m(\u001b[0m\u001b[0;34m*\u001b[0m\u001b[0ma\u001b[0m\u001b[0;34m,\u001b[0m \u001b[0;34m**\u001b[0m\u001b[0mk\u001b[0m\u001b[0;34m)\u001b[0m\u001b[0;34m\u001b[0m\u001b[0;34m\u001b[0m\u001b[0m\n\u001b[0m\u001b[1;32m    188\u001b[0m \u001b[0;34m\u001b[0m\u001b[0m\n\u001b[1;32m    189\u001b[0m         \u001b[0;32mif\u001b[0m \u001b[0mcallable\u001b[0m\u001b[0;34m(\u001b[0m\u001b[0marg\u001b[0m\u001b[0;34m)\u001b[0m\u001b[0;34m:\u001b[0m\u001b[0;34m\u001b[0m\u001b[0;34m\u001b[0m\u001b[0m\n",
            "\u001b[0;32m/usr/local/lib/python3.10/dist-packages/IPython/core/magics/script.py\u001b[0m in \u001b[0;36mshebang\u001b[0;34m(self, line, cell)\u001b[0m\n\u001b[1;32m    243\u001b[0m             \u001b[0msys\u001b[0m\u001b[0;34m.\u001b[0m\u001b[0mstderr\u001b[0m\u001b[0;34m.\u001b[0m\u001b[0mflush\u001b[0m\u001b[0;34m(\u001b[0m\u001b[0;34m)\u001b[0m\u001b[0;34m\u001b[0m\u001b[0;34m\u001b[0m\u001b[0m\n\u001b[1;32m    244\u001b[0m         \u001b[0;32mif\u001b[0m \u001b[0margs\u001b[0m\u001b[0;34m.\u001b[0m\u001b[0mraise_error\u001b[0m \u001b[0;32mand\u001b[0m \u001b[0mp\u001b[0m\u001b[0;34m.\u001b[0m\u001b[0mreturncode\u001b[0m\u001b[0;34m!=\u001b[0m\u001b[0;36m0\u001b[0m\u001b[0;34m:\u001b[0m\u001b[0;34m\u001b[0m\u001b[0;34m\u001b[0m\u001b[0m\n\u001b[0;32m--> 245\u001b[0;31m             \u001b[0;32mraise\u001b[0m \u001b[0mCalledProcessError\u001b[0m\u001b[0;34m(\u001b[0m\u001b[0mp\u001b[0m\u001b[0;34m.\u001b[0m\u001b[0mreturncode\u001b[0m\u001b[0;34m,\u001b[0m \u001b[0mcell\u001b[0m\u001b[0;34m,\u001b[0m \u001b[0moutput\u001b[0m\u001b[0;34m=\u001b[0m\u001b[0mout\u001b[0m\u001b[0;34m,\u001b[0m \u001b[0mstderr\u001b[0m\u001b[0;34m=\u001b[0m\u001b[0merr\u001b[0m\u001b[0;34m)\u001b[0m\u001b[0;34m\u001b[0m\u001b[0;34m\u001b[0m\u001b[0m\n\u001b[0m\u001b[1;32m    246\u001b[0m \u001b[0;34m\u001b[0m\u001b[0m\n\u001b[1;32m    247\u001b[0m     \u001b[0;32mdef\u001b[0m \u001b[0m_run_script\u001b[0m\u001b[0;34m(\u001b[0m\u001b[0mself\u001b[0m\u001b[0;34m,\u001b[0m \u001b[0mp\u001b[0m\u001b[0;34m,\u001b[0m \u001b[0mcell\u001b[0m\u001b[0;34m,\u001b[0m \u001b[0mto_close\u001b[0m\u001b[0;34m)\u001b[0m\u001b[0;34m:\u001b[0m\u001b[0;34m\u001b[0m\u001b[0;34m\u001b[0m\u001b[0m\n",
            "\u001b[0;31mCalledProcessError\u001b[0m: Command 'b'!netstat -tuln | grep LISTEN\\n'' returned non-zero exit status 1."
          ]
        }
      ]
    },
    {
      "cell_type": "code",
      "source": [
        "%%bash\n",
        "\n",
        "ps -ef | grep elasticsearch"
      ],
      "metadata": {
        "colab": {
          "base_uri": "https://localhost:8080/"
        },
        "id": "d3QYhyUcHL-t",
        "outputId": "177903bb-9f41-45fe-fb83-eea09be20747"
      },
      "execution_count": 33,
      "outputs": [
        {
          "output_type": "stream",
          "name": "stdout",
          "text": [
            "daemon     23350   22367 88 11:46 ?        00:00:27 /content/elasticsearch-7.9.2/jdk/bin/java -Xshar\n",
            "daemon     23585   23350  0 11:46 ?        00:00:00 /content/elasticsearch-7.9.2/modules/x-pack-ml/p\n",
            "root       23684   23682  0 11:46 ?        00:00:00 grep elasticsearch\n"
          ]
        }
      ]
    },
    {
      "cell_type": "markdown",
      "source": [
        "Now that our Elasticsearch server is up and running, the next thing to do is instanti‐\n",
        "ate the document store:"
      ],
      "metadata": {
        "id": "KHnY7ZZ7lxe0"
      }
    },
    {
      "cell_type": "code",
      "source": [
        "#pip install haystack-ai\n",
        "#!pip install elasticsearch-haystack\n",
        "#!pip install farm-haystack\n",
        "#!pip show elasticsearch\n",
        "#!pip install elasticsearch-haystack\n",
        "!pip install farm-haystack[elasticsearch]\n"
      ],
      "metadata": {
        "id": "XSq1oQYbl1Ye"
      },
      "execution_count": null,
      "outputs": []
    },
    {
      "cell_type": "code",
      "source": [],
      "metadata": {
        "colab": {
          "base_uri": "https://localhost:8080/"
        },
        "id": "Au8vlsanCLp2",
        "outputId": "9bf75662-1d72-4a0a-b74a-752ec8bb8cd4"
      },
      "execution_count": 32,
      "outputs": [
        {
          "output_type": "stream",
          "name": "stdout",
          "text": [
            "daemon     23350   22367 88 11:46 ?        00:00:27 /content/elasticsearch-7.9.2/jdk/bin/java -Xshar\n",
            "daemon     23585   23350  0 11:46 ?        00:00:00 /content/elasticsearch-7.9.2/modules/x-pack-ml/p\n",
            "root       23681   23679  0 11:46 ?        00:00:00 grep elasticsearch\n"
          ]
        }
      ]
    },
    {
      "cell_type": "code",
      "source": [
        "from elasticsearch import Elasticsearch\n",
        "\n",
        "# Connect to the running Elasticsearch 8.11.1 instance\n",
        "es = Elasticsearch(\n",
        "    hosts=[\"http://localhost:9200\"],\n",
        "    verify_certs=False\n",
        ")\n",
        "\n",
        "# Test the connection\n",
        "if es.ping():\n",
        "    print(\"Elasticsearch 8.11.1 is running!\")\n",
        "else:\n",
        "    print(\"Could not connect to Elasticsearch 8.11.1.\")\n"
      ],
      "metadata": {
        "colab": {
          "base_uri": "https://localhost:8080/"
        },
        "id": "E2H23ktkEbTl",
        "outputId": "20a18656-e159-4b74-829a-a97aa30d4a1b"
      },
      "execution_count": 116,
      "outputs": [
        {
          "output_type": "stream",
          "name": "stderr",
          "text": [
            "WARNING:elastic_transport.node_pool:Node <Urllib3HttpNode(http://localhost:9200)> has failed for 1 times in a row, putting on 1 second timeout\n",
            "WARNING:elastic_transport.transport:Retrying request after failure (attempt 0 of 3)\n",
            "Traceback (most recent call last):\n",
            "  File \"/usr/local/lib/python3.10/dist-packages/elastic_transport/_transport.py\", line 342, in perform_request\n",
            "    resp = node.perform_request(\n",
            "  File \"/usr/local/lib/python3.10/dist-packages/elastic_transport/_node/_http_urllib3.py\", line 202, in perform_request\n",
            "    raise err from None\n",
            "elastic_transport.ConnectionError: Connection error caused by: NewConnectionError(<urllib3.connection.HTTPConnection object at 0x7837c84b2260>: Failed to establish a new connection: [Errno 111] Connection refused)\n",
            "WARNING:elastic_transport.node_pool:Node <Urllib3HttpNode(http://localhost:9200)> has failed for 2 times in a row, putting on 2 second timeout\n",
            "WARNING:elastic_transport.transport:Retrying request after failure (attempt 1 of 3)\n",
            "Traceback (most recent call last):\n",
            "  File \"/usr/local/lib/python3.10/dist-packages/elastic_transport/_transport.py\", line 342, in perform_request\n",
            "    resp = node.perform_request(\n",
            "  File \"/usr/local/lib/python3.10/dist-packages/elastic_transport/_node/_http_urllib3.py\", line 202, in perform_request\n",
            "    raise err from None\n",
            "elastic_transport.ConnectionError: Connection error caused by: NewConnectionError(<urllib3.connection.HTTPConnection object at 0x7837c84b24a0>: Failed to establish a new connection: [Errno 111] Connection refused)\n",
            "WARNING:elastic_transport.node_pool:Node <Urllib3HttpNode(http://localhost:9200)> has failed for 3 times in a row, putting on 4 second timeout\n",
            "WARNING:elastic_transport.transport:Retrying request after failure (attempt 2 of 3)\n",
            "Traceback (most recent call last):\n",
            "  File \"/usr/local/lib/python3.10/dist-packages/elastic_transport/_transport.py\", line 342, in perform_request\n",
            "    resp = node.perform_request(\n",
            "  File \"/usr/local/lib/python3.10/dist-packages/elastic_transport/_node/_http_urllib3.py\", line 202, in perform_request\n",
            "    raise err from None\n",
            "elastic_transport.ConnectionError: Connection error caused by: NewConnectionError(<urllib3.connection.HTTPConnection object at 0x7837c84b27a0>: Failed to establish a new connection: [Errno 111] Connection refused)\n",
            "WARNING:elastic_transport.node_pool:Node <Urllib3HttpNode(http://localhost:9200)> has failed for 4 times in a row, putting on 8 second timeout\n"
          ]
        },
        {
          "output_type": "stream",
          "name": "stdout",
          "text": [
            "Could not connect to Elasticsearch 8.11.1.\n"
          ]
        }
      ]
    },
    {
      "cell_type": "code",
      "source": [],
      "metadata": {
        "id": "TlQDC04pEfVq"
      },
      "execution_count": 111,
      "outputs": []
    },
    {
      "cell_type": "code",
      "source": [
        "%%bash\n",
        "\n",
        "curl -sX GET \"localhost:9200/\""
      ],
      "metadata": {
        "colab": {
          "base_uri": "https://localhost:8080/",
          "height": 321
        },
        "id": "_VJRxWHFCOsP",
        "outputId": "b1a24484-633c-4d0a-da4c-a75a1371244d"
      },
      "execution_count": 37,
      "outputs": [
        {
          "output_type": "error",
          "ename": "CalledProcessError",
          "evalue": "Command 'b'\\ncurl -sX GET \"localhost:9200/\"\\n'' returned non-zero exit status 7.",
          "traceback": [
            "\u001b[0;31m---------------------------------------------------------------------------\u001b[0m",
            "\u001b[0;31mCalledProcessError\u001b[0m                        Traceback (most recent call last)",
            "\u001b[0;32m<ipython-input-37-506315f5439d>\u001b[0m in \u001b[0;36m<cell line: 1>\u001b[0;34m()\u001b[0m\n\u001b[0;32m----> 1\u001b[0;31m \u001b[0mget_ipython\u001b[0m\u001b[0;34m(\u001b[0m\u001b[0;34m)\u001b[0m\u001b[0;34m.\u001b[0m\u001b[0mrun_cell_magic\u001b[0m\u001b[0;34m(\u001b[0m\u001b[0;34m'bash'\u001b[0m\u001b[0;34m,\u001b[0m \u001b[0;34m''\u001b[0m\u001b[0;34m,\u001b[0m \u001b[0;34m'\\ncurl -sX GET \"localhost:9200/\"\\n'\u001b[0m\u001b[0;34m)\u001b[0m\u001b[0;34m\u001b[0m\u001b[0;34m\u001b[0m\u001b[0m\n\u001b[0m",
            "\u001b[0;32m/usr/local/lib/python3.10/dist-packages/google/colab/_shell.py\u001b[0m in \u001b[0;36mrun_cell_magic\u001b[0;34m(self, magic_name, line, cell)\u001b[0m\n\u001b[1;32m    332\u001b[0m     \u001b[0;32mif\u001b[0m \u001b[0mline\u001b[0m \u001b[0;32mand\u001b[0m \u001b[0;32mnot\u001b[0m \u001b[0mcell\u001b[0m\u001b[0;34m:\u001b[0m\u001b[0;34m\u001b[0m\u001b[0;34m\u001b[0m\u001b[0m\n\u001b[1;32m    333\u001b[0m       \u001b[0mcell\u001b[0m \u001b[0;34m=\u001b[0m \u001b[0;34m' '\u001b[0m\u001b[0;34m\u001b[0m\u001b[0;34m\u001b[0m\u001b[0m\n\u001b[0;32m--> 334\u001b[0;31m     \u001b[0;32mreturn\u001b[0m \u001b[0msuper\u001b[0m\u001b[0;34m(\u001b[0m\u001b[0;34m)\u001b[0m\u001b[0;34m.\u001b[0m\u001b[0mrun_cell_magic\u001b[0m\u001b[0;34m(\u001b[0m\u001b[0mmagic_name\u001b[0m\u001b[0;34m,\u001b[0m \u001b[0mline\u001b[0m\u001b[0;34m,\u001b[0m \u001b[0mcell\u001b[0m\u001b[0;34m)\u001b[0m\u001b[0;34m\u001b[0m\u001b[0;34m\u001b[0m\u001b[0m\n\u001b[0m\u001b[1;32m    335\u001b[0m \u001b[0;34m\u001b[0m\u001b[0m\n\u001b[1;32m    336\u001b[0m \u001b[0;34m\u001b[0m\u001b[0m\n",
            "\u001b[0;32m/usr/local/lib/python3.10/dist-packages/IPython/core/interactiveshell.py\u001b[0m in \u001b[0;36mrun_cell_magic\u001b[0;34m(self, magic_name, line, cell)\u001b[0m\n\u001b[1;32m   2471\u001b[0m             \u001b[0;32mwith\u001b[0m \u001b[0mself\u001b[0m\u001b[0;34m.\u001b[0m\u001b[0mbuiltin_trap\u001b[0m\u001b[0;34m:\u001b[0m\u001b[0;34m\u001b[0m\u001b[0;34m\u001b[0m\u001b[0m\n\u001b[1;32m   2472\u001b[0m                 \u001b[0margs\u001b[0m \u001b[0;34m=\u001b[0m \u001b[0;34m(\u001b[0m\u001b[0mmagic_arg_s\u001b[0m\u001b[0;34m,\u001b[0m \u001b[0mcell\u001b[0m\u001b[0;34m)\u001b[0m\u001b[0;34m\u001b[0m\u001b[0;34m\u001b[0m\u001b[0m\n\u001b[0;32m-> 2473\u001b[0;31m                 \u001b[0mresult\u001b[0m \u001b[0;34m=\u001b[0m \u001b[0mfn\u001b[0m\u001b[0;34m(\u001b[0m\u001b[0;34m*\u001b[0m\u001b[0margs\u001b[0m\u001b[0;34m,\u001b[0m \u001b[0;34m**\u001b[0m\u001b[0mkwargs\u001b[0m\u001b[0;34m)\u001b[0m\u001b[0;34m\u001b[0m\u001b[0;34m\u001b[0m\u001b[0m\n\u001b[0m\u001b[1;32m   2474\u001b[0m             \u001b[0;32mreturn\u001b[0m \u001b[0mresult\u001b[0m\u001b[0;34m\u001b[0m\u001b[0;34m\u001b[0m\u001b[0m\n\u001b[1;32m   2475\u001b[0m \u001b[0;34m\u001b[0m\u001b[0m\n",
            "\u001b[0;32m/usr/local/lib/python3.10/dist-packages/IPython/core/magics/script.py\u001b[0m in \u001b[0;36mnamed_script_magic\u001b[0;34m(line, cell)\u001b[0m\n\u001b[1;32m    140\u001b[0m             \u001b[0;32melse\u001b[0m\u001b[0;34m:\u001b[0m\u001b[0;34m\u001b[0m\u001b[0;34m\u001b[0m\u001b[0m\n\u001b[1;32m    141\u001b[0m                 \u001b[0mline\u001b[0m \u001b[0;34m=\u001b[0m \u001b[0mscript\u001b[0m\u001b[0;34m\u001b[0m\u001b[0;34m\u001b[0m\u001b[0m\n\u001b[0;32m--> 142\u001b[0;31m             \u001b[0;32mreturn\u001b[0m \u001b[0mself\u001b[0m\u001b[0;34m.\u001b[0m\u001b[0mshebang\u001b[0m\u001b[0;34m(\u001b[0m\u001b[0mline\u001b[0m\u001b[0;34m,\u001b[0m \u001b[0mcell\u001b[0m\u001b[0;34m)\u001b[0m\u001b[0;34m\u001b[0m\u001b[0;34m\u001b[0m\u001b[0m\n\u001b[0m\u001b[1;32m    143\u001b[0m \u001b[0;34m\u001b[0m\u001b[0m\n\u001b[1;32m    144\u001b[0m         \u001b[0;31m# write a basic docstring:\u001b[0m\u001b[0;34m\u001b[0m\u001b[0;34m\u001b[0m\u001b[0m\n",
            "\u001b[0;32m<decorator-gen-103>\u001b[0m in \u001b[0;36mshebang\u001b[0;34m(self, line, cell)\u001b[0m\n",
            "\u001b[0;32m/usr/local/lib/python3.10/dist-packages/IPython/core/magic.py\u001b[0m in \u001b[0;36m<lambda>\u001b[0;34m(f, *a, **k)\u001b[0m\n\u001b[1;32m    185\u001b[0m     \u001b[0;31m# but it's overkill for just that one bit of state.\u001b[0m\u001b[0;34m\u001b[0m\u001b[0;34m\u001b[0m\u001b[0m\n\u001b[1;32m    186\u001b[0m     \u001b[0;32mdef\u001b[0m \u001b[0mmagic_deco\u001b[0m\u001b[0;34m(\u001b[0m\u001b[0marg\u001b[0m\u001b[0;34m)\u001b[0m\u001b[0;34m:\u001b[0m\u001b[0;34m\u001b[0m\u001b[0;34m\u001b[0m\u001b[0m\n\u001b[0;32m--> 187\u001b[0;31m         \u001b[0mcall\u001b[0m \u001b[0;34m=\u001b[0m \u001b[0;32mlambda\u001b[0m \u001b[0mf\u001b[0m\u001b[0;34m,\u001b[0m \u001b[0;34m*\u001b[0m\u001b[0ma\u001b[0m\u001b[0;34m,\u001b[0m \u001b[0;34m**\u001b[0m\u001b[0mk\u001b[0m\u001b[0;34m:\u001b[0m \u001b[0mf\u001b[0m\u001b[0;34m(\u001b[0m\u001b[0;34m*\u001b[0m\u001b[0ma\u001b[0m\u001b[0;34m,\u001b[0m \u001b[0;34m**\u001b[0m\u001b[0mk\u001b[0m\u001b[0;34m)\u001b[0m\u001b[0;34m\u001b[0m\u001b[0;34m\u001b[0m\u001b[0m\n\u001b[0m\u001b[1;32m    188\u001b[0m \u001b[0;34m\u001b[0m\u001b[0m\n\u001b[1;32m    189\u001b[0m         \u001b[0;32mif\u001b[0m \u001b[0mcallable\u001b[0m\u001b[0;34m(\u001b[0m\u001b[0marg\u001b[0m\u001b[0;34m)\u001b[0m\u001b[0;34m:\u001b[0m\u001b[0;34m\u001b[0m\u001b[0;34m\u001b[0m\u001b[0m\n",
            "\u001b[0;32m/usr/local/lib/python3.10/dist-packages/IPython/core/magics/script.py\u001b[0m in \u001b[0;36mshebang\u001b[0;34m(self, line, cell)\u001b[0m\n\u001b[1;32m    243\u001b[0m             \u001b[0msys\u001b[0m\u001b[0;34m.\u001b[0m\u001b[0mstderr\u001b[0m\u001b[0;34m.\u001b[0m\u001b[0mflush\u001b[0m\u001b[0;34m(\u001b[0m\u001b[0;34m)\u001b[0m\u001b[0;34m\u001b[0m\u001b[0;34m\u001b[0m\u001b[0m\n\u001b[1;32m    244\u001b[0m         \u001b[0;32mif\u001b[0m \u001b[0margs\u001b[0m\u001b[0;34m.\u001b[0m\u001b[0mraise_error\u001b[0m \u001b[0;32mand\u001b[0m \u001b[0mp\u001b[0m\u001b[0;34m.\u001b[0m\u001b[0mreturncode\u001b[0m\u001b[0;34m!=\u001b[0m\u001b[0;36m0\u001b[0m\u001b[0;34m:\u001b[0m\u001b[0;34m\u001b[0m\u001b[0;34m\u001b[0m\u001b[0m\n\u001b[0;32m--> 245\u001b[0;31m             \u001b[0;32mraise\u001b[0m \u001b[0mCalledProcessError\u001b[0m\u001b[0;34m(\u001b[0m\u001b[0mp\u001b[0m\u001b[0;34m.\u001b[0m\u001b[0mreturncode\u001b[0m\u001b[0;34m,\u001b[0m \u001b[0mcell\u001b[0m\u001b[0;34m,\u001b[0m \u001b[0moutput\u001b[0m\u001b[0;34m=\u001b[0m\u001b[0mout\u001b[0m\u001b[0;34m,\u001b[0m \u001b[0mstderr\u001b[0m\u001b[0;34m=\u001b[0m\u001b[0merr\u001b[0m\u001b[0;34m)\u001b[0m\u001b[0;34m\u001b[0m\u001b[0;34m\u001b[0m\u001b[0m\n\u001b[0m\u001b[1;32m    246\u001b[0m \u001b[0;34m\u001b[0m\u001b[0m\n\u001b[1;32m    247\u001b[0m     \u001b[0;32mdef\u001b[0m \u001b[0m_run_script\u001b[0m\u001b[0;34m(\u001b[0m\u001b[0mself\u001b[0m\u001b[0;34m,\u001b[0m \u001b[0mp\u001b[0m\u001b[0;34m,\u001b[0m \u001b[0mcell\u001b[0m\u001b[0;34m,\u001b[0m \u001b[0mto_close\u001b[0m\u001b[0;34m)\u001b[0m\u001b[0;34m:\u001b[0m\u001b[0;34m\u001b[0m\u001b[0;34m\u001b[0m\u001b[0m\n",
            "\u001b[0;31mCalledProcessError\u001b[0m: Command 'b'\\ncurl -sX GET \"localhost:9200/\"\\n'' returned non-zero exit status 7."
          ]
        }
      ]
    },
    {
      "cell_type": "code",
      "source": [],
      "metadata": {
        "id": "IOqZ5mEUCIsT"
      },
      "execution_count": null,
      "outputs": []
    },
    {
      "cell_type": "code",
      "source": [
        "from haystack.document_stores.elasticsearch import ElasticsearchDocumentStore\n",
        "#from haystack_integrations.document_stores.elasticsearch import ElasticsearchDocumentStore\n",
        "from haystack import Document\n",
        "# Return the document embedding for later use with dense retriever\n",
        "#document_store = ElasticsearchDocumentStore()\n",
        "document_store = ElasticsearchDocumentStore(return_embedding=True)\n"
      ],
      "metadata": {
        "id": "IZpr-R1ily8P"
      },
      "execution_count": 81,
      "outputs": []
    },
    {
      "cell_type": "code",
      "source": [],
      "metadata": {
        "id": "nt3Ibjnj9ew3"
      },
      "execution_count": null,
      "outputs": []
    },
    {
      "cell_type": "code",
      "source": [
        "# It's a good idea to flush Elasticsearch with each notebook restart\n",
        "if len(document_store.get_all_documents()) or len(document_store.get_all_labels()) > 0:\n",
        "    document_store.delete_documents(index=\"document\")\n",
        "    document_store.delete_documents(index=\"label\")"
      ],
      "metadata": {
        "id": "6tgDtv1r7aaI"
      },
      "execution_count": null,
      "outputs": []
    },
    {
      "cell_type": "markdown",
      "source": [
        "By default, ElasticsearchDocumentStore creates two indices on Elasticsearch: one\n",
        "called document for (you guessed it) storing documents, and another called label for\n",
        "storing the annotated answer spans. For now, we’ll just populate the document index with the SubjQA reviews, and Haystack’s document stores expect a list of dictionaries\n",
        "with text and meta keys\n",
        "\n",
        "\n",
        "The fields in meta can be used for applying filters during retrieval. For our purposes\n",
        "we’ll include the item_id and q_review_id columns of SubjQA so we can filter by\n",
        "product and question ID, along with the corresponding training split. We can then\n",
        "loop through the examples in each DataFrame and add them to the index with the\n",
        "write_documents() method as follows:"
      ],
      "metadata": {
        "id": "F0p2M2p1JAVx"
      }
    },
    {
      "cell_type": "code",
      "source": [
        "\n",
        "for split, df in dfs.items():\n",
        "    # Exclude duplicate reviews\n",
        "    docs = [{\"content\": row[\"context\"], \"id\": row[\"review_id\"],\n",
        "             \"meta\":{\"item_id\": row[\"title\"], \"question_id\": row[\"id\"],\n",
        "                     \"split\": split}}\n",
        "        for _,row in df.drop_duplicates(subset=\"context\").iterrows()]\n",
        "    document_store.write_documents(docs)\n",
        "\n",
        "print(f\"Loaded {document_store.get_document_count()} documents\")"
      ],
      "metadata": {
        "id": "9cBBtwk9w6Ig"
      },
      "execution_count": null,
      "outputs": []
    },
    {
      "cell_type": "markdown",
      "source": [],
      "metadata": {
        "id": "Ta-8zWLLkVM0"
      }
    },
    {
      "cell_type": "code",
      "source": [
        "%%bash\n",
        "\n",
        "pip install --upgrade pip\n",
        "pip install farm-haystack[colab,inference]"
      ],
      "metadata": {
        "id": "sqy0pq6RiOTR",
        "colab": {
          "base_uri": "https://localhost:8080/"
        },
        "outputId": "96d300b7-3270-4107-e120-5e26e51880c4"
      },
      "execution_count": 45,
      "outputs": [
        {
          "output_type": "stream",
          "name": "stdout",
          "text": [
            "Requirement already satisfied: pip in /usr/local/lib/python3.10/dist-packages (24.1.2)\n",
            "Collecting pip\n",
            "  Using cached pip-24.2-py3-none-any.whl.metadata (3.6 kB)\n",
            "Using cached pip-24.2-py3-none-any.whl (1.8 MB)\n",
            "Installing collected packages: pip\n",
            "  Attempting uninstall: pip\n",
            "    Found existing installation: pip 24.1.2\n",
            "    Uninstalling pip-24.1.2:\n",
            "      Successfully uninstalled pip-24.1.2\n",
            "Successfully installed pip-24.2\n",
            "Requirement already satisfied: farm-haystack[colab,inference] in /usr/local/lib/python3.10/dist-packages (1.26.2)\n",
            "Requirement already satisfied: boilerpy3 in /usr/local/lib/python3.10/dist-packages (from farm-haystack[colab,inference]) (1.0.7)\n",
            "Requirement already satisfied: events in /usr/local/lib/python3.10/dist-packages (from farm-haystack[colab,inference]) (0.5)\n",
            "Requirement already satisfied: httpx in /usr/local/lib/python3.10/dist-packages (from farm-haystack[colab,inference]) (0.27.0)\n",
            "Requirement already satisfied: jsonschema in /usr/local/lib/python3.10/dist-packages (from farm-haystack[colab,inference]) (4.23.0)\n",
            "Requirement already satisfied: lazy-imports==0.3.1 in /usr/local/lib/python3.10/dist-packages (from farm-haystack[colab,inference]) (0.3.1)\n",
            "Requirement already satisfied: more-itertools in /usr/local/lib/python3.10/dist-packages (from farm-haystack[colab,inference]) (10.3.0)\n",
            "Requirement already satisfied: networkx in /usr/local/lib/python3.10/dist-packages (from farm-haystack[colab,inference]) (3.3)\n",
            "Requirement already satisfied: pandas in /usr/local/lib/python3.10/dist-packages (from farm-haystack[colab,inference]) (2.1.4)\n",
            "Requirement already satisfied: pillow in /usr/local/lib/python3.10/dist-packages (from farm-haystack[colab,inference]) (9.4.0)\n",
            "Requirement already satisfied: platformdirs in /usr/local/lib/python3.10/dist-packages (from farm-haystack[colab,inference]) (4.2.2)\n",
            "Requirement already satisfied: posthog in /usr/local/lib/python3.10/dist-packages (from farm-haystack[colab,inference]) (3.5.0)\n",
            "Requirement already satisfied: prompthub-py==4.0.0 in /usr/local/lib/python3.10/dist-packages (from farm-haystack[colab,inference]) (4.0.0)\n",
            "Requirement already satisfied: pydantic<2 in /usr/local/lib/python3.10/dist-packages (from farm-haystack[colab,inference]) (1.10.17)\n",
            "Requirement already satisfied: quantulum3 in /usr/local/lib/python3.10/dist-packages (from farm-haystack[colab,inference]) (0.9.2)\n",
            "Requirement already satisfied: rank-bm25 in /usr/local/lib/python3.10/dist-packages (from farm-haystack[colab,inference]) (0.2.2)\n",
            "Requirement already satisfied: requests in /usr/local/lib/python3.10/dist-packages (from farm-haystack[colab,inference]) (2.32.3)\n",
            "Requirement already satisfied: requests-cache<1.0.0 in /usr/local/lib/python3.10/dist-packages (from farm-haystack[colab,inference]) (0.9.8)\n",
            "Requirement already satisfied: scikit-learn>=1.3.0 in /usr/local/lib/python3.10/dist-packages (from farm-haystack[colab,inference]) (1.3.2)\n",
            "Requirement already satisfied: sseclient-py in /usr/local/lib/python3.10/dist-packages (from farm-haystack[colab,inference]) (1.8.0)\n",
            "Requirement already satisfied: tenacity in /usr/local/lib/python3.10/dist-packages (from farm-haystack[colab,inference]) (9.0.0)\n",
            "Requirement already satisfied: tiktoken>=0.5.1 in /usr/local/lib/python3.10/dist-packages (from farm-haystack[colab,inference]) (0.7.0)\n",
            "Requirement already satisfied: tqdm in /usr/local/lib/python3.10/dist-packages (from farm-haystack[colab,inference]) (4.66.5)\n",
            "Requirement already satisfied: transformers==4.39.3 in /usr/local/lib/python3.10/dist-packages (from farm-haystack[colab,inference]) (4.39.3)\n",
            "Requirement already satisfied: huggingface-hub>=0.5.0 in /usr/local/lib/python3.10/dist-packages (from farm-haystack[colab,inference]) (0.23.5)\n",
            "Collecting sentence-transformers>=2.2.0 (from farm-haystack[colab,inference])\n",
            "  Downloading sentence_transformers-3.0.1-py3-none-any.whl.metadata (10 kB)\n",
            "Collecting pillow (from farm-haystack[colab,inference])\n",
            "  Downloading Pillow-9.0.0-cp310-cp310-manylinux_2_17_x86_64.manylinux2014_x86_64.whl.metadata (7.6 kB)\n",
            "Requirement already satisfied: pyyaml<7.0,>=6.0 in /usr/local/lib/python3.10/dist-packages (from prompthub-py==4.0.0->farm-haystack[colab,inference]) (6.0.2)\n",
            "Requirement already satisfied: filelock in /usr/local/lib/python3.10/dist-packages (from transformers==4.39.3->farm-haystack[colab,inference]) (3.15.4)\n",
            "Requirement already satisfied: numpy>=1.17 in /usr/local/lib/python3.10/dist-packages (from transformers==4.39.3->farm-haystack[colab,inference]) (1.26.4)\n",
            "Requirement already satisfied: packaging>=20.0 in /usr/local/lib/python3.10/dist-packages (from transformers==4.39.3->farm-haystack[colab,inference]) (24.1)\n",
            "Requirement already satisfied: regex!=2019.12.17 in /usr/local/lib/python3.10/dist-packages (from transformers==4.39.3->farm-haystack[colab,inference]) (2024.5.15)\n",
            "Requirement already satisfied: tokenizers<0.19,>=0.14 in /usr/local/lib/python3.10/dist-packages (from transformers==4.39.3->farm-haystack[colab,inference]) (0.15.2)\n",
            "Requirement already satisfied: safetensors>=0.4.1 in /usr/local/lib/python3.10/dist-packages (from transformers==4.39.3->farm-haystack[colab,inference]) (0.4.4)\n",
            "Requirement already satisfied: sentencepiece!=0.1.92,>=0.1.91 in /usr/local/lib/python3.10/dist-packages (from transformers[sentencepiece,torch]==4.39.3; extra == \"inference\"->farm-haystack[colab,inference]) (0.1.99)\n",
            "Requirement already satisfied: protobuf in /usr/local/lib/python3.10/dist-packages (from transformers[sentencepiece,torch]==4.39.3; extra == \"inference\"->farm-haystack[colab,inference]) (3.20.3)\n",
            "Requirement already satisfied: torch in /usr/local/lib/python3.10/dist-packages (from transformers[sentencepiece,torch]==4.39.3; extra == \"inference\"->farm-haystack[colab,inference]) (2.3.1+cu121)\n",
            "Requirement already satisfied: accelerate>=0.21.0 in /usr/local/lib/python3.10/dist-packages (from transformers[sentencepiece,torch]==4.39.3; extra == \"inference\"->farm-haystack[colab,inference]) (0.32.1)\n",
            "Requirement already satisfied: fsspec>=2023.5.0 in /usr/local/lib/python3.10/dist-packages (from huggingface-hub>=0.5.0->farm-haystack[colab,inference]) (2024.5.0)\n",
            "Requirement already satisfied: typing-extensions>=3.7.4.3 in /usr/local/lib/python3.10/dist-packages (from huggingface-hub>=0.5.0->farm-haystack[colab,inference]) (4.12.2)\n",
            "Requirement already satisfied: charset-normalizer<4,>=2 in /usr/local/lib/python3.10/dist-packages (from requests->farm-haystack[colab,inference]) (3.3.2)\n",
            "Requirement already satisfied: idna<4,>=2.5 in /usr/local/lib/python3.10/dist-packages (from requests->farm-haystack[colab,inference]) (3.7)\n",
            "Requirement already satisfied: urllib3<3,>=1.21.1 in /usr/local/lib/python3.10/dist-packages (from requests->farm-haystack[colab,inference]) (1.26.19)\n",
            "Requirement already satisfied: certifi>=2017.4.17 in /usr/local/lib/python3.10/dist-packages (from requests->farm-haystack[colab,inference]) (2024.7.4)\n",
            "Requirement already satisfied: appdirs>=1.4.4 in /usr/local/lib/python3.10/dist-packages (from requests-cache<1.0.0->farm-haystack[colab,inference]) (1.4.4)\n",
            "Requirement already satisfied: attrs>=21.2 in /usr/local/lib/python3.10/dist-packages (from requests-cache<1.0.0->farm-haystack[colab,inference]) (24.2.0)\n",
            "Requirement already satisfied: cattrs>=22.2 in /usr/local/lib/python3.10/dist-packages (from requests-cache<1.0.0->farm-haystack[colab,inference]) (23.2.3)\n",
            "Requirement already satisfied: url-normalize>=1.4 in /usr/local/lib/python3.10/dist-packages (from requests-cache<1.0.0->farm-haystack[colab,inference]) (1.4.3)\n",
            "Requirement already satisfied: scipy>=1.5.0 in /usr/local/lib/python3.10/dist-packages (from scikit-learn>=1.3.0->farm-haystack[colab,inference]) (1.13.1)\n",
            "Requirement already satisfied: joblib>=1.1.1 in /usr/local/lib/python3.10/dist-packages (from scikit-learn>=1.3.0->farm-haystack[colab,inference]) (1.4.2)\n",
            "Requirement already satisfied: threadpoolctl>=2.0.0 in /usr/local/lib/python3.10/dist-packages (from scikit-learn>=1.3.0->farm-haystack[colab,inference]) (3.5.0)\n",
            "Requirement already satisfied: anyio in /usr/local/lib/python3.10/dist-packages (from httpx->farm-haystack[colab,inference]) (3.7.1)\n",
            "Requirement already satisfied: httpcore==1.* in /usr/local/lib/python3.10/dist-packages (from httpx->farm-haystack[colab,inference]) (1.0.5)\n",
            "Requirement already satisfied: sniffio in /usr/local/lib/python3.10/dist-packages (from httpx->farm-haystack[colab,inference]) (1.3.1)\n",
            "Requirement already satisfied: h11<0.15,>=0.13 in /usr/local/lib/python3.10/dist-packages (from httpcore==1.*->httpx->farm-haystack[colab,inference]) (0.14.0)\n",
            "Requirement already satisfied: jsonschema-specifications>=2023.03.6 in /usr/local/lib/python3.10/dist-packages (from jsonschema->farm-haystack[colab,inference]) (2023.12.1)\n",
            "Requirement already satisfied: referencing>=0.28.4 in /usr/local/lib/python3.10/dist-packages (from jsonschema->farm-haystack[colab,inference]) (0.35.1)\n",
            "Requirement already satisfied: rpds-py>=0.7.1 in /usr/local/lib/python3.10/dist-packages (from jsonschema->farm-haystack[colab,inference]) (0.20.0)\n",
            "Requirement already satisfied: python-dateutil>=2.8.2 in /usr/local/lib/python3.10/dist-packages (from pandas->farm-haystack[colab,inference]) (2.8.2)\n",
            "Requirement already satisfied: pytz>=2020.1 in /usr/local/lib/python3.10/dist-packages (from pandas->farm-haystack[colab,inference]) (2024.1)\n",
            "Requirement already satisfied: tzdata>=2022.1 in /usr/local/lib/python3.10/dist-packages (from pandas->farm-haystack[colab,inference]) (2024.1)\n",
            "Requirement already satisfied: six>=1.5 in /usr/local/lib/python3.10/dist-packages (from posthog->farm-haystack[colab,inference]) (1.16.0)\n",
            "Requirement already satisfied: monotonic>=1.5 in /usr/local/lib/python3.10/dist-packages (from posthog->farm-haystack[colab,inference]) (1.6)\n",
            "Requirement already satisfied: backoff>=1.10.0 in /usr/local/lib/python3.10/dist-packages (from posthog->farm-haystack[colab,inference]) (2.2.1)\n",
            "Requirement already satisfied: inflect in /usr/local/lib/python3.10/dist-packages (from quantulum3->farm-haystack[colab,inference]) (7.3.1)\n",
            "Requirement already satisfied: num2words in /usr/local/lib/python3.10/dist-packages (from quantulum3->farm-haystack[colab,inference]) (0.5.13)\n",
            "Requirement already satisfied: psutil in /usr/local/lib/python3.10/dist-packages (from accelerate>=0.21.0->transformers[sentencepiece,torch]==4.39.3; extra == \"inference\"->farm-haystack[colab,inference]) (5.9.5)\n",
            "Requirement already satisfied: exceptiongroup>=1.1.1 in /usr/local/lib/python3.10/dist-packages (from cattrs>=22.2->requests-cache<1.0.0->farm-haystack[colab,inference]) (1.2.2)\n",
            "Requirement already satisfied: sympy in /usr/local/lib/python3.10/dist-packages (from torch->transformers[sentencepiece,torch]==4.39.3; extra == \"inference\"->farm-haystack[colab,inference]) (1.13.1)\n",
            "Requirement already satisfied: jinja2 in /usr/local/lib/python3.10/dist-packages (from torch->transformers[sentencepiece,torch]==4.39.3; extra == \"inference\"->farm-haystack[colab,inference]) (3.1.4)\n",
            "Collecting nvidia-cuda-nvrtc-cu12==12.1.105 (from torch->transformers[sentencepiece,torch]==4.39.3; extra == \"inference\"->farm-haystack[colab,inference])\n",
            "  Using cached nvidia_cuda_nvrtc_cu12-12.1.105-py3-none-manylinux1_x86_64.whl.metadata (1.5 kB)\n",
            "Collecting nvidia-cuda-runtime-cu12==12.1.105 (from torch->transformers[sentencepiece,torch]==4.39.3; extra == \"inference\"->farm-haystack[colab,inference])\n",
            "  Using cached nvidia_cuda_runtime_cu12-12.1.105-py3-none-manylinux1_x86_64.whl.metadata (1.5 kB)\n",
            "Collecting nvidia-cuda-cupti-cu12==12.1.105 (from torch->transformers[sentencepiece,torch]==4.39.3; extra == \"inference\"->farm-haystack[colab,inference])\n",
            "  Using cached nvidia_cuda_cupti_cu12-12.1.105-py3-none-manylinux1_x86_64.whl.metadata (1.6 kB)\n",
            "Collecting nvidia-cudnn-cu12==8.9.2.26 (from torch->transformers[sentencepiece,torch]==4.39.3; extra == \"inference\"->farm-haystack[colab,inference])\n",
            "  Using cached nvidia_cudnn_cu12-8.9.2.26-py3-none-manylinux1_x86_64.whl.metadata (1.6 kB)\n",
            "Collecting nvidia-cublas-cu12==12.1.3.1 (from torch->transformers[sentencepiece,torch]==4.39.3; extra == \"inference\"->farm-haystack[colab,inference])\n",
            "  Using cached nvidia_cublas_cu12-12.1.3.1-py3-none-manylinux1_x86_64.whl.metadata (1.5 kB)\n",
            "Collecting nvidia-cufft-cu12==11.0.2.54 (from torch->transformers[sentencepiece,torch]==4.39.3; extra == \"inference\"->farm-haystack[colab,inference])\n",
            "  Using cached nvidia_cufft_cu12-11.0.2.54-py3-none-manylinux1_x86_64.whl.metadata (1.5 kB)\n",
            "Collecting nvidia-curand-cu12==10.3.2.106 (from torch->transformers[sentencepiece,torch]==4.39.3; extra == \"inference\"->farm-haystack[colab,inference])\n",
            "  Using cached nvidia_curand_cu12-10.3.2.106-py3-none-manylinux1_x86_64.whl.metadata (1.5 kB)\n",
            "Collecting nvidia-cusolver-cu12==11.4.5.107 (from torch->transformers[sentencepiece,torch]==4.39.3; extra == \"inference\"->farm-haystack[colab,inference])\n",
            "  Using cached nvidia_cusolver_cu12-11.4.5.107-py3-none-manylinux1_x86_64.whl.metadata (1.6 kB)\n",
            "Collecting nvidia-cusparse-cu12==12.1.0.106 (from torch->transformers[sentencepiece,torch]==4.39.3; extra == \"inference\"->farm-haystack[colab,inference])\n",
            "  Using cached nvidia_cusparse_cu12-12.1.0.106-py3-none-manylinux1_x86_64.whl.metadata (1.6 kB)\n",
            "Collecting nvidia-nccl-cu12==2.20.5 (from torch->transformers[sentencepiece,torch]==4.39.3; extra == \"inference\"->farm-haystack[colab,inference])\n",
            "  Using cached nvidia_nccl_cu12-2.20.5-py3-none-manylinux2014_x86_64.whl.metadata (1.8 kB)\n",
            "Collecting nvidia-nvtx-cu12==12.1.105 (from torch->transformers[sentencepiece,torch]==4.39.3; extra == \"inference\"->farm-haystack[colab,inference])\n",
            "  Using cached nvidia_nvtx_cu12-12.1.105-py3-none-manylinux1_x86_64.whl.metadata (1.7 kB)\n",
            "Requirement already satisfied: triton==2.3.1 in /usr/local/lib/python3.10/dist-packages (from torch->transformers[sentencepiece,torch]==4.39.3; extra == \"inference\"->farm-haystack[colab,inference]) (2.3.1)\n",
            "Collecting nvidia-nvjitlink-cu12 (from nvidia-cusolver-cu12==11.4.5.107->torch->transformers[sentencepiece,torch]==4.39.3; extra == \"inference\"->farm-haystack[colab,inference])\n",
            "  Using cached nvidia_nvjitlink_cu12-12.6.20-py3-none-manylinux2014_x86_64.whl.metadata (1.5 kB)\n",
            "Requirement already satisfied: typeguard>=4.0.1 in /usr/local/lib/python3.10/dist-packages (from inflect->quantulum3->farm-haystack[colab,inference]) (4.3.0)\n",
            "Requirement already satisfied: docopt>=0.6.2 in /usr/local/lib/python3.10/dist-packages (from num2words->quantulum3->farm-haystack[colab,inference]) (0.6.2)\n",
            "Requirement already satisfied: MarkupSafe>=2.0 in /usr/local/lib/python3.10/dist-packages (from jinja2->torch->transformers[sentencepiece,torch]==4.39.3; extra == \"inference\"->farm-haystack[colab,inference]) (2.1.5)\n",
            "Requirement already satisfied: mpmath<1.4,>=1.1.0 in /usr/local/lib/python3.10/dist-packages (from sympy->torch->transformers[sentencepiece,torch]==4.39.3; extra == \"inference\"->farm-haystack[colab,inference]) (1.3.0)\n",
            "Downloading Pillow-9.0.0-cp310-cp310-manylinux_2_17_x86_64.manylinux2014_x86_64.whl (4.3 MB)\n",
            "   ━━━━━━━━━━━━━━━━━━━━━━━━━━━━━━━━━━━━━━━━ 4.3/4.3 MB 76.3 MB/s eta 0:00:00\n",
            "Downloading sentence_transformers-3.0.1-py3-none-any.whl (227 kB)\n",
            "Using cached nvidia_cublas_cu12-12.1.3.1-py3-none-manylinux1_x86_64.whl (410.6 MB)\n",
            "Using cached nvidia_cuda_cupti_cu12-12.1.105-py3-none-manylinux1_x86_64.whl (14.1 MB)\n",
            "Using cached nvidia_cuda_nvrtc_cu12-12.1.105-py3-none-manylinux1_x86_64.whl (23.7 MB)\n",
            "Using cached nvidia_cuda_runtime_cu12-12.1.105-py3-none-manylinux1_x86_64.whl (823 kB)\n",
            "Using cached nvidia_cudnn_cu12-8.9.2.26-py3-none-manylinux1_x86_64.whl (731.7 MB)\n",
            "Using cached nvidia_cufft_cu12-11.0.2.54-py3-none-manylinux1_x86_64.whl (121.6 MB)\n",
            "Using cached nvidia_curand_cu12-10.3.2.106-py3-none-manylinux1_x86_64.whl (56.5 MB)\n",
            "Using cached nvidia_cusolver_cu12-11.4.5.107-py3-none-manylinux1_x86_64.whl (124.2 MB)\n",
            "Using cached nvidia_cusparse_cu12-12.1.0.106-py3-none-manylinux1_x86_64.whl (196.0 MB)\n",
            "Using cached nvidia_nccl_cu12-2.20.5-py3-none-manylinux2014_x86_64.whl (176.2 MB)\n",
            "Using cached nvidia_nvtx_cu12-12.1.105-py3-none-manylinux1_x86_64.whl (99 kB)\n",
            "Using cached nvidia_nvjitlink_cu12-12.6.20-py3-none-manylinux2014_x86_64.whl (19.7 MB)\n",
            "Installing collected packages: pillow, nvidia-nvtx-cu12, nvidia-nvjitlink-cu12, nvidia-nccl-cu12, nvidia-curand-cu12, nvidia-cufft-cu12, nvidia-cuda-runtime-cu12, nvidia-cuda-nvrtc-cu12, nvidia-cuda-cupti-cu12, nvidia-cublas-cu12, nvidia-cusparse-cu12, nvidia-cudnn-cu12, nvidia-cusolver-cu12, sentence-transformers\n",
            "  Attempting uninstall: pillow\n",
            "    Found existing installation: Pillow 9.4.0\n",
            "    Uninstalling Pillow-9.4.0:\n",
            "      Successfully uninstalled Pillow-9.4.0\n",
            "Successfully installed nvidia-cublas-cu12-12.1.3.1 nvidia-cuda-cupti-cu12-12.1.105 nvidia-cuda-nvrtc-cu12-12.1.105 nvidia-cuda-runtime-cu12-12.1.105 nvidia-cudnn-cu12-8.9.2.26 nvidia-cufft-cu12-11.0.2.54 nvidia-curand-cu12-10.3.2.106 nvidia-cusolver-cu12-11.4.5.107 nvidia-cusparse-cu12-12.1.0.106 nvidia-nccl-cu12-2.20.5 nvidia-nvjitlink-cu12-12.6.20 nvidia-nvtx-cu12-12.1.105 pillow-9.0.0 sentence-transformers-3.0.1\n"
          ]
        },
        {
          "output_type": "stream",
          "name": "stderr",
          "text": [
            "ERROR: pip's dependency resolver does not currently take into account all the packages that are installed. This behaviour is the source of the following dependency conflicts.\n",
            "scikit-image 0.23.2 requires pillow>=9.1, but you have pillow 9.0.0 which is incompatible.\n"
          ]
        }
      ]
    },
    {
      "cell_type": "markdown",
      "source": [
        "# Initializing a retriever\n",
        "\n",
        "The Elasticsearch document store can be paired with any of the Haystack retrievers,\n",
        "so let’s start by using a sparse retriever based on BM25 (short for “Best Match 25”).\n",
        "BM25 is an improved version of the classic Term Frequency-Inverse Document Fre‐\n",
        "quency (TF-IDF) algorithm and represents the question and context as sparse vectors\n",
        "that can be searched efficiently on Elasticsearch."
      ],
      "metadata": {
        "id": "h73HI564JWi-"
      }
    },
    {
      "cell_type": "markdown",
      "source": [
        "The BM25 score measures how\n",
        "much matched text is about a search query and improves on TF-IDF by saturating TF\n",
        "values quickly and normalizing the document length so that short documents are\n",
        "favored over long ones.13"
      ],
      "metadata": {
        "id": "lJj0H3FMJb0G"
      }
    },
    {
      "cell_type": "markdown",
      "source": [
        "In Haystack, the BM25 retriever is used by default in ElasticsearchRetriever, so\n",
        "let’s initialize this class by specifying the document store we wish to search over:"
      ],
      "metadata": {
        "id": "9XnRHXIjJi7A"
      }
    },
    {
      "cell_type": "code",
      "source": [
        "from haystack.retriever.sparse import ElasticsearchRetriever\n",
        "es_retriever = ElasticsearchRetriever(document_store=document_store)"
      ],
      "metadata": {
        "id": "u_EMpHkSJlC-"
      },
      "execution_count": null,
      "outputs": []
    },
    {
      "cell_type": "markdown",
      "source": [
        "Next, let’s look at a simple query for a single electronics product in the training set.\n",
        "For review-based QA systems like ours, it’s important to restrict the queries to a single\n",
        "item because otherwise the retriever would source reviews about products that are\n",
        "not related to a user’s query. For example, asking “Is the camera quality any good?”\n",
        "without a product filter could return reviews about phones, when the user might be\n",
        "asking about a specific laptop camera instead."
      ],
      "metadata": {
        "id": "uuG-7HxqJu0g"
      }
    },
    {
      "cell_type": "markdown",
      "source": [
        "By themselves, the ASIN values in our\n",
        "dataset are a bit cryptic, but we can decipher them with online tools like amazon\n",
        "ASIN or by simply appending the value of item_id to the www.amazon.com/dp/ URL.\n",
        "The following item ID corresponds to one of Amazon’s Fire tablets, so let’s use the\n",
        "retriever’s retrieve() method to ask if it’s any good for reading with:"
      ],
      "metadata": {
        "id": "JIOyvJW3J1XP"
      }
    },
    {
      "cell_type": "code",
      "source": [
        "item_id = \"B0074BW614\"\n",
        "query = \"Is it good for reading?\"\n",
        "retrieved_docs = es_retriever.retrieve(\n",
        "query=query, top_k=3, filters={\"item_id\":[item_id], \"split\":[\"train\"]})"
      ],
      "metadata": {
        "id": "W8S2iHHCJ24g"
      },
      "execution_count": null,
      "outputs": []
    },
    {
      "cell_type": "markdown",
      "source": [
        "Here we’ve specified how many documents to return with the top_k argument and\n",
        "applied a filter on both the item_id and split keys that were included in the meta\n",
        "field of our documents. Each element of retrieved_docs is a Haystack Document\n",
        "object that is used to represent documents and includes the retriever’s query score\n",
        "along with other metadata. Let’s have a look at one of the retrieved documents:"
      ],
      "metadata": {
        "id": "YEKVYnTzJ6kj"
      }
    },
    {
      "cell_type": "code",
      "source": [
        "print(retrieved_docs[0])"
      ],
      "metadata": {
        "id": "0Ac5-_x_KEbi"
      },
      "execution_count": null,
      "outputs": []
    },
    {
      "cell_type": "markdown",
      "source": [
        "In addition to the document’s text, we can see the score that Elasticsearch computed\n",
        "for its relevance to the query (larger scores imply a better match). Under the hood,\n",
        "Elasticsearch relies on Lucene for indexing and search, so by default it uses Lucene’s\n",
        "practical scoring function. in brief terms it first filters the can‐\n",
        "didate documents by applying a Boolean test (does the document match the query?),and then applies a similarity metric that’s based on representing both the document\n",
        "and the query as vectors."
      ],
      "metadata": {
        "id": "QXjwft2DKE1i"
      }
    },
    {
      "cell_type": "markdown",
      "source": [
        "Now that we have a way to retrieve relevant documents, the next thing we need is a\n",
        "way to extract answers from them. This is where the reader comes in, so let’s take a\n",
        "look at how we can load our MiniLM model in Haystack."
      ],
      "metadata": {
        "id": "zRGwHCijKj3B"
      }
    },
    {
      "cell_type": "markdown",
      "source": [
        "# Initializing a reader"
      ],
      "metadata": {
        "id": "LqOfaMieKm_J"
      }
    },
    {
      "cell_type": "markdown",
      "source": [
        "### FARMReader\n",
        "Based on deepset’s FARM framework for fine-tuning and deploying transform‐\n",
        "ers. Compatible with models trained using Transformers and can load models\n",
        "directly from the Hugging Face Hub.\n",
        "\n",
        "### TransformersReader\n",
        "Based on the QA pipeline from Transformers. Suitable for running inference\n",
        "only."
      ],
      "metadata": {
        "id": "xCc3eJAZKq6r"
      }
    },
    {
      "cell_type": "markdown",
      "source": [
        "Since we will be fine-tuning the reader later in the chapter, we’ll use the FARMReader.\n",
        "As with Transformers, to load the model we just need to specify the MiniLM\n",
        "checkpoint on the Hugging Face Hub along with some QA-specific arguments:"
      ],
      "metadata": {
        "id": "Y3pKm6A6K18C"
      }
    },
    {
      "cell_type": "code",
      "source": [
        "from haystack.nodes import FARMReader\n",
        "\n",
        "model_ckpt = \"deepset/minilm-uncased-squad2\" #alternative larger models: deepset/roberta-base-squad2-distilled or deepset/xlm-roberta-large-squad2 or the tiny distilled model: deepset/tinyroberta-squad2\n",
        "max_seq_length, doc_stride = 384, 128\n",
        "reader = FARMReader(model_name_or_path=model_ckpt, progress_bar=False,\n",
        "                    max_seq_len=max_seq_length, doc_stride=doc_stride,\n",
        "                    return_no_answer=True)"
      ],
      "metadata": {
        "id": "X9GAklg8K9uR"
      },
      "execution_count": null,
      "outputs": []
    },
    {
      "cell_type": "code",
      "source": [
        "print(reader.predict_on_texts(question=question, texts=[context], top_k=1))\n"
      ],
      "metadata": {
        "id": "b09SfjzSK_XK"
      },
      "execution_count": null,
      "outputs": []
    },
    {
      "cell_type": "markdown",
      "source": [
        "Putting it all together\n"
      ],
      "metadata": {
        "id": "KoiVL_I7LBxs"
      }
    },
    {
      "cell_type": "code",
      "source": [
        "from haystack.pipelines import ExtractiveQAPipeline\n",
        "\n",
        "pipe = ExtractiveQAPipeline(reader=reader, retriever=bm25_retriever)"
      ],
      "metadata": {
        "id": "MxWfjNWoLCno"
      },
      "execution_count": null,
      "outputs": []
    },
    {
      "cell_type": "markdown",
      "source": [
        "Now, you can specify the name of the node, e.g., \"Retriever\", that you want to pass parameters to.\n",
        "\n"
      ],
      "metadata": {
        "id": "GuX4bYC0LI8E"
      }
    },
    {
      "cell_type": "code",
      "source": [
        "n_answers = 3\n",
        "preds = pipe.run(query=query, params={\"Retriever\": {\"top_k\": 3, \"filters\":{\"item_id\": [item_id], \"split\":[\"train\"]}},\n",
        "                                      \"Reader\": {\"top_k\": n_answers}})\n",
        "\n",
        "print(f\"Question: {preds['query']} \\n\")\n",
        "\n",
        "for idx in range(n_answers):\n",
        "    print(f\"Answer {idx+1}: {preds['answers'][idx].answer}\")\n",
        "    print(f\"Review snippet: ...{preds['answers'][idx].context}...\")\n",
        "    print(\"\\n\\n\")"
      ],
      "metadata": {
        "id": "fVkYocSLKp_c"
      },
      "execution_count": null,
      "outputs": []
    },
    {
      "cell_type": "markdown",
      "source": [
        "Great, we now have an end-to-end QA system for Amazon product reviews! This is a\n",
        "good start, but notice that the second and third answers are closer to what the ques‐\n",
        "tion is actually asking. To do better, we’ll need some metrics to quantify the perfor‐\n",
        "mance of the retriever and reader. We’ll take a look at that next."
      ],
      "metadata": {
        "id": "XPHCCdngNn4Z"
      }
    },
    {
      "cell_type": "markdown",
      "source": [
        "# Improving Our QA Pipeline"
      ],
      "metadata": {
        "id": "iYuqiEHRM3Kk"
      }
    },
    {
      "cell_type": "markdown",
      "source": [
        "In particular, the\n",
        "retriever sets an upper bound on the performance of the whole QA system, so it’s\n",
        "important to make sure it’s doing a good job. With this in mind, let’s start by intro‐\n",
        "ducing some common metrics to evaluate the retriever so that we can compare the\n",
        "performance of sparse and dense representations."
      ],
      "metadata": {
        "id": "4oBb9q8UNwWW"
      }
    },
    {
      "cell_type": "markdown",
      "source": [
        "Evaluating the Retriever\n",
        "A common metric for evaluating retrievers is recall, which measures the fraction of all\n",
        "relevant documents that are retrieved. In this context, “relevant” simply means\n",
        "whether the answer is present in a passage of text or not, so given a set of questions,\n",
        "we can compute recall by counting the number of times an answer appears in the top\n",
        "k documents returned by the retriever."
      ],
      "metadata": {
        "id": "QAOXSmBFN3Jj"
      }
    },
    {
      "cell_type": "markdown",
      "source": [
        "In Haystack, there are two ways to evaluate retrievers:\n",
        "• Use the retriever’s in-built eval() method. This can be used for both open- and\n",
        "closed-domain QA, but not for datasets like SubjQA where each document is\n",
        "paired with a single product and we need to filter by product ID for every query.\n",
        "• Build a custom Pipeline that combines a retriever with the EvalRetriever class.\n",
        "This enables the implementation of custom metrics and query flows."
      ],
      "metadata": {
        "id": "nKRfeOpfN6ZR"
      }
    },
    {
      "cell_type": "code",
      "source": [
        "\n",
        "\n",
        "from haystack.pipelines import DocumentSearchPipeline\n",
        "\n",
        "pipe = DocumentSearchPipeline(retriever=bm25_retriever)"
      ],
      "metadata": {
        "id": "SsU68SXuM5UT"
      },
      "execution_count": null,
      "outputs": []
    },
    {
      "cell_type": "code",
      "source": [
        "from haystack import Label, Answer, Document\n",
        "\n",
        "labels = []\n",
        "for i, row in dfs[\"test\"].iterrows():\n",
        "    # Metadata used for filtering in the Retriever\n",
        "    meta = {\"item_id\": row[\"title\"], \"question_id\": row[\"id\"]}\n",
        "    # Populate labels for questions with answers\n",
        "    if len(row[\"answers.text\"]):\n",
        "        for answer in row[\"answers.text\"]:\n",
        "            label = Label(\n",
        "                query=row[\"question\"], answer=Answer(answer=answer), origin=\"gold-label\", document=Document(content=row[\"context\"], id=row[\"review_id\"]),\n",
        "                meta=meta, is_correct_answer=True, is_correct_document=True,\n",
        "                no_answer=False, filters={\"item_id\": [meta[\"item_id\"]], \"split\":[\"test\"]})\n",
        "            labels.append(label)\n",
        "    # Populate labels for questions without answers\n",
        "    else:\n",
        "        label = Label(\n",
        "            query=row[\"question\"], answer=Answer(answer=\"\"), origin=\"gold-label\", document=Document(content=row[\"context\"], id=row[\"review_id\"]),\n",
        "            meta=meta, is_correct_answer=True, is_correct_document=True,\n",
        "            no_answer=True, filters={\"item_id\": [row[\"title\"]], \"split\":[\"test\"]})\n",
        "        labels.append(label)"
      ],
      "metadata": {
        "id": "G6LUDnVfM-P4"
      },
      "execution_count": null,
      "outputs": []
    },
    {
      "cell_type": "code",
      "source": [
        "document_store.write_labels(labels, index=\"label\")\n",
        "\n",
        "print(f\"\"\"Loaded {document_store.get_label_count(index=\"label\")} \\\n",
        "question-answer pairs\"\"\")"
      ],
      "metadata": {
        "id": "cz2wauMyM_pe"
      },
      "execution_count": null,
      "outputs": []
    },
    {
      "cell_type": "code",
      "source": [
        "\n",
        "labels_agg = document_store.get_all_labels_aggregated(\n",
        "    index=\"label\",\n",
        "    open_domain=True,\n",
        "    aggregate_by_meta=[\"item_id\"]\n",
        ")\n",
        "print(len(labels_agg))"
      ],
      "metadata": {
        "id": "2zui74qANBCI"
      },
      "execution_count": null,
      "outputs": []
    },
    {
      "cell_type": "code",
      "source": [
        "\n",
        "# We can run the pipeline with the desired top_k value like this\n",
        "eval_result = pipe.eval(\n",
        "    labels=labels_agg,\n",
        "    params={\"Retriever\": {\"top_k\": 3}},\n",
        ")\n",
        "metrics = eval_result.calculate_metrics()"
      ],
      "metadata": {
        "id": "SQeUQL-yNET3"
      },
      "execution_count": null,
      "outputs": []
    },
    {
      "cell_type": "code",
      "source": [
        "print(f\"Recall@3: {metrics['Retriever']['recall_single_hit']:.2f}\")\n"
      ],
      "metadata": {
        "id": "06JC_W0kNFlo"
      },
      "execution_count": null,
      "outputs": []
    },
    {
      "cell_type": "code",
      "source": [
        "eval_df = eval_result[\"Retriever\"]\n",
        "eval_df[eval_df[\"query\"] == \"How do you like the lens?\"][[\"query\", \"filters\", \"rank\", \"content\", \"gold_document_contents\", \"document_id\", \"gold_document_ids\", \"gold_id_match\"]]\n",
        ""
      ],
      "metadata": {
        "id": "yJlF-kT6NQtz"
      },
      "execution_count": null,
      "outputs": []
    },
    {
      "cell_type": "markdown",
      "source": [
        "Or if we want to calculate metrics for multiple topk values, we can run the pipeline only once with the highest top_k value and calculate metrics for smaller top_ks afterwards.\n",
        "\n"
      ],
      "metadata": {
        "id": "9Ehd0wxuNV0x"
      }
    },
    {
      "cell_type": "code",
      "source": [
        "def evaluate_retriever(retriever, topk_values = [1,3,5,10,20]):\n",
        "    topk_results = {}\n",
        "    # Calculate max top_k\n",
        "    max_top_k = max(topk_values)\n",
        "    # Create Pipeline\n",
        "    p = DocumentSearchPipeline(retriever=retriever)\n",
        "    # Run inference with max top_k by looping over each question-answers pair in test set\n",
        "    eval_result = p.eval(\n",
        "        labels=labels_agg,\n",
        "        params={\"Retriever\": {\"top_k\": max_top_k}},\n",
        "    )\n",
        "    # Calculate metric for each top_k value\n",
        "    for topk in topk_values:\n",
        "        # Get metrics\n",
        "        metrics = eval_result.calculate_metrics(simulated_top_k_retriever=topk)\n",
        "        topk_results[topk] = {\"recall\": metrics[\"Retriever\"][\"recall_single_hit\"]}\n",
        "\n",
        "    return pd.DataFrame.from_dict(topk_results, orient=\"index\")\n",
        "\n",
        "\n",
        "bm25_topk_df = evaluate_retriever(bm25_retriever)"
      ],
      "metadata": {
        "id": "S-yu9mnQNX3s"
      },
      "execution_count": null,
      "outputs": []
    },
    {
      "cell_type": "code",
      "source": [
        "\n",
        "def plot_retriever_eval(dfs, retriever_names):\n",
        "    fig, ax = plt.subplots()\n",
        "    for df, retriever_name in zip(dfs, retriever_names):\n",
        "        df.plot(y=\"recall\", ax=ax, label=retriever_name)\n",
        "    plt.xticks(df.index)\n",
        "    plt.ylabel(\"Top-k Recall\")\n",
        "    plt.xlabel(\"k\")\n",
        "    plt.show()\n",
        "\n",
        "plot_retriever_eval([bm25_topk_df], [\"BM25\"])"
      ],
      "metadata": {
        "id": "LMUka5K5NZOf"
      },
      "execution_count": null,
      "outputs": []
    },
    {
      "cell_type": "markdown",
      "source": [
        "From the plot, we can see that there’s an inflection point around k = 5 and we get\n",
        "almost perfect recall from k = 10 onwards. Let’s now take a look at retrieving docu‐\n",
        "ments with dense vector techniques."
      ],
      "metadata": {
        "id": "WyioF7UeOkGO"
      }
    },
    {
      "cell_type": "code",
      "source": [],
      "metadata": {
        "id": "IQIgPUOOKIGh"
      },
      "execution_count": null,
      "outputs": []
    },
    {
      "cell_type": "code",
      "source": [],
      "metadata": {
        "id": "CvNigcRmhBLG"
      },
      "execution_count": null,
      "outputs": []
    },
    {
      "cell_type": "markdown",
      "source": [
        "# Dense Passage Retrieval\n",
        "\n",
        "We’ve seen that we get almost perfect recall when our sparse retriever returns k = 10\n",
        "documents, but can we do better at smaller values of k? The advantage of doing so is\n",
        "that we can pass fewer documents to the reader and thereby reduce the overall\n",
        "latency of our QA pipeline. A well-known limitation of sparse retrievers like BM25 is\n",
        "that they can fail to capture the relevant documents if the user query contains terms\n",
        "that don’t match exactly those of the review. One promising alternative is to use dense\n",
        "embeddings to represent the question and document, and the current state of the art\n",
        "is an architecture known as Dense Passage Retrieval (DPR).14"
      ],
      "metadata": {
        "id": "gmYYk-3jgP-A"
      }
    },
    {
      "cell_type": "markdown",
      "source": [
        "The main idea behind\n",
        "DPR is to use two BERT models as encoders for the question and the passage. As\n",
        "illustrated in Figure 7-10, these encoders map the input text into a d-dimensional\n",
        "vector representation of the [CLS] token."
      ],
      "metadata": {
        "id": "MSUGYC0COv_z"
      }
    },
    {
      "cell_type": "markdown",
      "source": [
        "In Haystack, we can initialize a retriever for DPR in a similar way to what we did for\n",
        "BM25. In addition to specifying the document store, we also need to pick the BERT\n",
        "encoders for the question and passage. These encoders are trained by giving them\n",
        "questions with relevant (positive) passages and irrelevant (negative) passages, where\n",
        "the goal is to learn that relevant question-passage pairs have a higher similarity. For\n",
        "our use case, we’ll use encoders that have been fine-tuned on the NQ corpus in this\n",
        "way:"
      ],
      "metadata": {
        "id": "cXcMWYWoOyTg"
      }
    },
    {
      "cell_type": "code",
      "source": [
        "from haystack.retriever.dense import DensePassageRetriever\n",
        "dpr_retriever = DensePassageRetriever(document_store=document_store,\n",
        "query_embedding_model=\"facebook/dpr-question_encoder-single-nq-base\",\n",
        "passage_embedding_model=\"facebook/dpr-ctx_encoder-single-nq-base\",\n",
        "embed_title=False)"
      ],
      "metadata": {
        "id": "5fC8a3zcO4R-"
      },
      "execution_count": null,
      "outputs": []
    },
    {
      "cell_type": "markdown",
      "source": [
        "Once we’ve initialized the dense retriever, the next step is to iterate over all the\n",
        "indexed documents in our Elasticsearch index and apply the encoders to update the\n",
        "embedding representation. This can be done as follows:"
      ],
      "metadata": {
        "id": "7S-aSSE7PAYe"
      }
    },
    {
      "cell_type": "code",
      "source": [
        "document_store.update_embeddings(retriever=dpr_retriever)"
      ],
      "metadata": {
        "id": "6YDJqmahPAur"
      },
      "execution_count": null,
      "outputs": []
    },
    {
      "cell_type": "markdown",
      "source": [
        "We’re now set to go! We can evaluate the dense retriever in the same way we did for\n",
        "BM25 and compare the top-k recall:"
      ],
      "metadata": {
        "id": "3Zj-9yrpPDnw"
      }
    },
    {
      "cell_type": "code",
      "source": [
        "dpr_topk_df = evaluate_retriever(dpr_retriever)\n",
        "plot_retriever_eval([es_topk_df, dpr_topk_df], [\"BM25\", \"DPR\"])"
      ],
      "metadata": {
        "id": "Neb9DrvZPFbP"
      },
      "execution_count": null,
      "outputs": []
    },
    {
      "cell_type": "markdown",
      "source": [
        "Here we can see that DPR does not provide a boost in recall over BM25 and saturates\n",
        "around k = 3."
      ],
      "metadata": {
        "id": "RmcSnrhJPInL"
      }
    },
    {
      "cell_type": "markdown",
      "source": [
        "# Evaluating the Reader\n",
        "In extractive QA, there are two main metrics that are used for evaluating readers:\n",
        "\n",
        "1. Exact Match (EM)\n",
        "\n",
        "A binary metric that gives EM = 1 if the characters in the predicted and ground\n",
        "truth answers match exactly, and EM = 0 otherwise. If no answer is expected, the\n",
        "model gets EM = 0 if it predicts any text at all.\n",
        "\n",
        "2. F1 -score\n",
        "\n",
        "Measures the harmonic mean of the precision and recall."
      ],
      "metadata": {
        "id": "lfvnqV8BPMxU"
      }
    },
    {
      "cell_type": "code",
      "source": [
        "from farm.evaluation.squad_evaluation import compute_f1, compute_exact\n",
        "pred = \"about 6000 hours\"\n",
        "label = \"6000 hours\"\n",
        "print(f\"EM: {compute_exact(label, pred)}\")\n",
        "print(f\"F1: {compute_f1(label, pred)}\")\n",
        "EM: 0\n",
        "F1: 0.8"
      ],
      "metadata": {
        "id": "43ibhQrgPXvD"
      },
      "execution_count": null,
      "outputs": []
    },
    {
      "cell_type": "markdown",
      "source": [
        "Under the hood, these functions first normalize the prediction and label by removing\n",
        "punctuation, fixing whitespace, and converting to lowercase. The normalized strings\n",
        "are then tokenized as a bag-of-words, before finally computing the metric at the\n",
        "token level. From this simple example we can see that EM is a much stricter metric\n",
        "than the F1\n",
        "-score:"
      ],
      "metadata": {
        "id": "XFArWMHcPbz1"
      }
    },
    {
      "cell_type": "markdown",
      "source": [
        "adding a single token to the prediction gives an EM of zero. On the\n",
        "other hand, the F1\n",
        "\n",
        "-score can fail to catch truly incorrect answers. For example, if our\n",
        "\n",
        "predicted answer span is “about 6000 dollars”, then we get:"
      ],
      "metadata": {
        "id": "mxDUBHUBPhAb"
      }
    },
    {
      "cell_type": "code",
      "source": [
        "pred = \"about 6000 dollars\"\n",
        "print(f\"EM: {compute_exact(label, pred)}\")\n",
        "print(f\"F1: {compute_f1(label, pred)}\")"
      ],
      "metadata": {
        "id": "Iw3tRaAcPiaJ"
      },
      "execution_count": null,
      "outputs": []
    },
    {
      "cell_type": "markdown",
      "source": [
        "Relying on just the F1\n",
        "\n",
        "-score is thus misleading, and tracking both metrics is a good\n",
        "strategy to balance the trade-off between underestimating (EM) and overestimating\n",
        "(F1\n",
        "-score) model performance."
      ],
      "metadata": {
        "id": "Xsh9kDCcPkar"
      }
    },
    {
      "cell_type": "markdown",
      "source": [
        "To evaluate the reader we’ll create a new pipeline with two nodes: a reader node and a\n",
        "node to evaluate the reader. We’ll use the EvalReader class that takes the predictions\n",
        "from the reader and computes the corresponding EM and F1\n",
        "\n",
        "scores. To compare with\n",
        "the SQuAD evaluation, we’ll take the best answers for each query with the top_1_em\n",
        "and top_1_f1 metrics that are stored in EvalAnswers:"
      ],
      "metadata": {
        "id": "jkN0GY9VPrsP"
      }
    },
    {
      "cell_type": "code",
      "source": [
        "\n",
        "from haystack.pipelines import Pipeline\n",
        "def evaluate_reader(reader):\n",
        "    score_keys = ['exact_match', 'f1']\n",
        "    p = Pipeline()\n",
        "    p.add_node(component=reader, name=\"Reader\", inputs=[\"Query\"])\n",
        "\n",
        "    eval_result = p.eval(\n",
        "        labels=labels_agg,\n",
        "        documents= [[label.document for label in multilabel.labels] for multilabel in labels_agg],\n",
        "        params={},\n",
        "    )\n",
        "    metrics = eval_result.calculate_metrics(simulated_top_k_reader=1)\n",
        "\n",
        "    return {k:v for k,v in metrics[\"Reader\"].items() if k in score_keys}\n",
        "\n",
        "reader_eval = {}\n",
        "reader_eval[\"Fine-tune on SQuAD\"] = evaluate_reader(reader)"
      ],
      "metadata": {
        "id": "M0nqaIIcP0Bm"
      },
      "execution_count": null,
      "outputs": []
    },
    {
      "cell_type": "markdown",
      "source": [
        "Notice that we specified skip_incorrect_retrieval=False. This is to ensure that\n",
        "the retriever always passes the context to the reader (as in the SQuAD evaluation).\n",
        "Now that we’ve run every question through the reader, let’s print the scores:"
      ],
      "metadata": {
        "id": "QOZn6gtbP8sV"
      }
    },
    {
      "cell_type": "markdown",
      "source": [],
      "metadata": {
        "id": "FZXTMPdNQCei"
      }
    },
    {
      "cell_type": "code",
      "source": [],
      "metadata": {
        "id": "4HS_QB5TQD_8"
      },
      "execution_count": null,
      "outputs": []
    },
    {
      "cell_type": "code",
      "source": [
        "def plot_reader_eval(reader_eval):\n",
        "    fig, ax = plt.subplots()\n",
        "    df = pd.DataFrame.from_dict(reader_eval).reindex([\"exact_match\", \"f1\"])\n",
        "    df.plot(kind=\"bar\", ylabel=\"Score\", rot=0, ax=ax)\n",
        "    ax.set_xticklabels([\"EM\", \"F1\"])\n",
        "    plt.legend(loc='upper left')\n",
        "    plt.show()\n",
        "\n",
        "plot_reader_eval(reader_eval)"
      ],
      "metadata": {
        "id": "GjY2lcjQP1_G"
      },
      "execution_count": null,
      "outputs": []
    },
    {
      "cell_type": "markdown",
      "source": [
        "OK, it seems that the fine-tuned model performs significantly worse on SubjQA than\n",
        "on SQuAD 2.0, where MiniLM achieves EM and F1\n",
        "\n",
        "scores of 76.1 and 79.5, respec‐\n",
        "tively. One reason for the performance drop is that customer reviews are quite differ‐\n",
        "ent from the Wikipedia articles the SQuAD 2.0 dataset is generated from, and the\n",
        "language they use is often informal. Another factor is likely the inherent subjectivity\n",
        "of our dataset, where both questions and answers differ from the factual information\n",
        "contained in Wikipedia. Let’s look at how to fine-tune a model on a dataset to get bet‐\n",
        "ter results with domain adaptation."
      ],
      "metadata": {
        "id": "vjcnetiEQGgT"
      }
    },
    {
      "cell_type": "markdown",
      "source": [
        "# Domain Adaptation\n",
        "\n",
        "Although models that are fine-tuned on SQuAD will often generalize well to other\n",
        "domains, we’ve seen that for SubjQA the EM and F1\n",
        "\n",
        "scores of our model were much\n",
        "worse than for SQuAD. This failure to generalize has also been observed in other\n",
        "extractive QA datasets and is understood as evidence that transformer models are\n",
        "particularly adept at overfitting to SQuAD.15 The most straightforward way to\n",
        "improve the reader is by fine-tuning our MiniLM model further on the SubjQA train‐\n",
        "ing set. The FARMReader has a train() method that is designed for this purpose and\n",
        "expects the data to be in SQuAD JSON format, where all the question-answer pairs\n",
        "are grouped together for each item"
      ],
      "metadata": {
        "id": "U1m2nZRjQIYj"
      }
    },
    {
      "cell_type": "markdown",
      "source": [
        "This is quite a complex data format, so we’ll need a few functions and some Pandas\n",
        "magic to help us do the conversion. The first thing we need to do is implement a\n",
        "function that can create the paragraphs array associated with each product ID. Each\n",
        "element in this array contains a single context (i.e., review) and a qas array of\n",
        "question-answer pairs. Here’s a function that builds up the paragraphs array:"
      ],
      "metadata": {
        "id": "T8SU0COcQTzr"
      }
    },
    {
      "cell_type": "code",
      "source": [
        "def create_paragraphs(df):\n",
        "    paragraphs = []\n",
        "    id2context = dict(zip(df[\"review_id\"], df[\"context\"]))\n",
        "    for review_id, review in id2context.items():\n",
        "        qas = []\n",
        "        # Filter for all question-answer pairs about a specific context\n",
        "        review_df = df.query(f\"review_id == '{review_id}'\")\n",
        "        id2question = dict(zip(review_df[\"id\"], review_df[\"question\"]))\n",
        "        # Build up the qas array\n",
        "        for qid, question in id2question.items():\n",
        "            # Filter for a single question ID\n",
        "            question_df = df.query(f\"id == '{qid}'\").to_dict(orient=\"list\")\n",
        "            ans_start_idxs = question_df[\"answers.answer_start\"][0].tolist()\n",
        "            ans_text = question_df[\"answers.text\"][0].tolist()\n",
        "            # Fill answerable questions\n",
        "            if len(ans_start_idxs):\n",
        "                answers = [\n",
        "                    {\"text\": text, \"answer_start\": answer_start}\n",
        "                    for text, answer_start in zip(ans_text, ans_start_idxs)]\n",
        "                is_impossible = False\n",
        "            else:\n",
        "                answers = []\n",
        "                is_impossible = True\n",
        "            # Add question-answer pairs to qas\n",
        "            qas.append({\"question\": question, \"id\": qid,\n",
        "                        \"is_impossible\": is_impossible, \"answers\": answers})\n",
        "        # Add context and question-answer pairs to paragraphs\n",
        "        paragraphs.append({\"qas\": qas, \"context\": review})\n",
        "    return paragraphs"
      ],
      "metadata": {
        "id": "Q2U1JNepQVC_"
      },
      "execution_count": null,
      "outputs": []
    },
    {
      "cell_type": "markdown",
      "source": [
        "Now, when we apply to the rows of a DataFrame associated with a single product ID,\n",
        "we get the SQuAD format:"
      ],
      "metadata": {
        "id": "MnrHdKuKRIyR"
      }
    },
    {
      "cell_type": "code",
      "source": [
        "product = dfs[\"train\"].query(\"title == 'B00001P4ZH'\")\n",
        "create_paragraphs(product)"
      ],
      "metadata": {
        "id": "9-AzLx7-QbVS"
      },
      "execution_count": null,
      "outputs": []
    },
    {
      "cell_type": "markdown",
      "source": [
        "The final step is to then apply this function to each product ID in the DataFrame of\n",
        "each split. The following convert_to_squad() function does this trick and stores the\n",
        "result in an electronics-{split}.json file:"
      ],
      "metadata": {
        "id": "-jkiHZSDRLZn"
      }
    },
    {
      "cell_type": "code",
      "source": [
        "\n",
        "import json\n",
        "\n",
        "def convert_to_squad(dfs):\n",
        "    for split, df in dfs.items():\n",
        "        subjqa_data = {}\n",
        "        # Create `paragraphs` for each product ID\n",
        "        groups = (df.groupby(\"title\").apply(create_paragraphs)\n",
        "            .to_frame(name=\"paragraphs\").reset_index())\n",
        "        subjqa_data[\"data\"] = groups.to_dict(orient=\"records\")\n",
        "        # Save the result to disk\n",
        "        with open(f\"electronics-{split}.json\", \"w+\", encoding=\"utf-8\") as f:\n",
        "            json.dump(subjqa_data, f)\n",
        "\n",
        "convert_to_squad(dfs)"
      ],
      "metadata": {
        "id": "UtScGpVZQeDb"
      },
      "execution_count": null,
      "outputs": []
    },
    {
      "cell_type": "markdown",
      "source": [
        "Now that we have the splits in the right format, let’s fine-tune our reader by specify‐\n",
        "ing the locations of the train and dev splits, along with where to save the fine-tuned\n",
        "model:"
      ],
      "metadata": {
        "id": "ZZ2IaXx2ROjW"
      }
    },
    {
      "cell_type": "code",
      "source": [
        "\n",
        "train_filename = \"electronics-train.json\"\n",
        "dev_filename = \"electronics-validation.json\"\n",
        "\n",
        "reader.train(data_dir=\".\", use_gpu=True, n_epochs=1, batch_size=16,\n",
        "             train_filename=train_filename, dev_filename=dev_filename)"
      ],
      "metadata": {
        "id": "4jLJHBbjQfaB"
      },
      "execution_count": null,
      "outputs": []
    },
    {
      "cell_type": "code",
      "source": [
        "reader_eval[\"Fine-tune on SQuAD + SubjQA\"] = evaluate_reader(reader)\n"
      ],
      "metadata": {
        "id": "ats3Qz--Qguz"
      },
      "execution_count": null,
      "outputs": []
    },
    {
      "cell_type": "markdown",
      "source": [
        "Wow, domain adaptation has increased our EM score by a factor of six and more than\n",
        "doubled the F1\n",
        "\n",
        "-score! At this point, you might be wondering why we didn’t just fine-\n",
        "tune a pretrained language model directly on the SubjQA training set. One reason is\n",
        "\n",
        "that we only have 1,295 training examples in SubjQA while SQuAD has over 100,000,\n",
        "so we might run into challenges with overfitting. Nevertheless, let’s take a look at what\n",
        "naive fine-tuning produces."
      ],
      "metadata": {
        "id": "LxcW978GRXOz"
      }
    },
    {
      "cell_type": "markdown",
      "source": [
        "For a fair comparison, we’ll use the same language model that was used for fine-tuning our baseline on SQuAD. As before, we’ll load up the\n",
        "model with the FARMReader:"
      ],
      "metadata": {
        "id": "nid7Aym7RaQ9"
      }
    },
    {
      "cell_type": "code",
      "source": [
        "minilm_ckpt = \"microsoft/MiniLM-L12-H384-uncased\"\n",
        "minilm_reader = FARMReader(model_name_or_path=minilm_ckpt, progress_bar=False,\n",
        "                           max_seq_len=max_seq_length, doc_stride=doc_stride,\n",
        "                           return_no_answer=True)"
      ],
      "metadata": {
        "id": "zN71DyY4QitP"
      },
      "execution_count": null,
      "outputs": []
    },
    {
      "cell_type": "markdown",
      "source": [
        "Next, we fine-tune for one epoch:"
      ],
      "metadata": {
        "id": "Ey4W1H3RReOC"
      }
    },
    {
      "cell_type": "code",
      "source": [
        "\n",
        "minilm_reader.train(data_dir=\".\", use_gpu=True, n_epochs=1, batch_size=16,\n",
        "             train_filename=train_filename, dev_filename=dev_filename)"
      ],
      "metadata": {
        "id": "-d9TbS1dQkAH"
      },
      "execution_count": null,
      "outputs": []
    },
    {
      "cell_type": "markdown",
      "source": [
        "and include the evaluation on the test set:"
      ],
      "metadata": {
        "id": "G_addLgCRgJN"
      }
    },
    {
      "cell_type": "code",
      "source": [
        "reader_eval[\"Fine-tune on SubjQA\"] = evaluate_reader(minilm_reader)\n"
      ],
      "metadata": {
        "id": "ZGAk0WZoQlXz"
      },
      "execution_count": null,
      "outputs": []
    },
    {
      "cell_type": "code",
      "source": [
        "plot_reader_eval(reader_eval)\n"
      ],
      "metadata": {
        "id": "r5FbQghBQmhQ"
      },
      "execution_count": null,
      "outputs": []
    },
    {
      "cell_type": "markdown",
      "source": [
        "We can see that fine-tuning the language model directly on SubjQA results in consid‐\n",
        "erably worse performance than fine-tuning on SQuAD and SubjQA."
      ],
      "metadata": {
        "id": "1ACSZBhXRja_"
      }
    },
    {
      "cell_type": "markdown",
      "source": [
        "# Evaluating the Whole QA Pipeline\n"
      ],
      "metadata": {
        "id": "eXQbTUV6QoU4"
      }
    },
    {
      "cell_type": "markdown",
      "source": [
        "Now that we’ve seen how to evaluate the reader and retriever components individu‐\n",
        "ally, let’s tie them together to measure the overall performance of our pipeline. To do\n",
        "so, we’ll need to augment our retriever pipeline with nodes for the reader and its evaluation. We’ve seen that we get almost perfect recall at k = 10, so we can fix this\n",
        "value and assess the impact this has on the reader’s performance (since it will now\n",
        "receive multiple contexts per query compared to the SQuAD-style evaluation):"
      ],
      "metadata": {
        "id": "tWG0XAKbRpP3"
      }
    },
    {
      "cell_type": "code",
      "source": [
        "from haystack.pipelines import ExtractiveQAPipeline\n",
        "pipe = ExtractiveQAPipeline(retriever=bm25_retriever, reader=reader)\n",
        "\n",
        "# Evaluate!\n",
        "eval_result = pipe.eval(\n",
        "    labels=labels_agg,\n",
        "    params={},\n",
        ")\n",
        "metrics = eval_result.calculate_metrics(simulated_top_k_reader=1)\n",
        "# Extract metrics from reader\n",
        "reader_eval[\"QA Pipeline (top-1)\"] = {\n",
        "    k:v for k,v in metrics[\"Reader\"].items()\n",
        "    if k in [\"exact_match\", \"f1\"]}"
      ],
      "metadata": {
        "id": "WsCF1vDAQw65"
      },
      "execution_count": null,
      "outputs": []
    },
    {
      "cell_type": "code",
      "source": [
        "#id reader-vs-pipeline\n",
        "#caption Comparison of EM and _F_~1~ scores for the reader against the whole QA pipeline\n",
        "plot_reader_eval({\"Reader\": reader_eval[\"Fine-tune on SQuAD + SubjQA\"],\n",
        "                  \"QA pipeline (top-1)\": reader_eval[\"QA Pipeline (top-1)\"]})"
      ],
      "metadata": {
        "id": "mY0qnwekQy6l"
      },
      "execution_count": null,
      "outputs": []
    },
    {
      "cell_type": "markdown",
      "source": [
        "We can then compare the top 1 EM and F1\n",
        "\n",
        "scores for the model to predict an answer\n",
        "\n",
        "in the documents returned by the retriever in Figure"
      ],
      "metadata": {
        "id": "KA0AeNeDRvDu"
      }
    },
    {
      "cell_type": "code",
      "source": [
        "\n",
        "# Or get QA pipeline and Reader metrics in one shot:\n",
        "# Reader evaluation is run a second time using simulated perfect retriever results\n",
        "eval_result = pipe.eval(\n",
        "    labels=labels_agg,\n",
        "    params={},\n",
        "    add_isolated_node_eval=True\n",
        ")\n",
        "metrics = eval_result.calculate_metrics(simulated_top_k_reader=1)\n",
        "# Extract metrics from reader run in isolation with simulated perfect retriever\n",
        "isolated_metrics = eval_result.calculate_metrics(simulated_top_k_reader=1, eval_mode=\"isolated\")\n",
        "\n",
        "pipeline_reader_eval = {}\n",
        "pipeline_reader_eval[\"Reader\"] = {\n",
        "    k:v for k,v in isolated_metrics[\"Reader\"].items()\n",
        "    if k in [\"exact_match\", \"f1\"]}\n",
        "pipeline_reader_eval[\"QA Pipeline (top-1)\"] = {\n",
        "    k:v for k,v in metrics[\"Reader\"].items()\n",
        "    if k in [\"exact_match\", \"f1\"]}\n",
        "\n",
        "plot_reader_eval(pipeline_reader_eval)"
      ],
      "metadata": {
        "id": "9s7mepERQ1Qd"
      },
      "execution_count": null,
      "outputs": []
    },
    {
      "cell_type": "markdown",
      "source": [
        "From this plot we can see the effect that the retriever has on the overall performance.\n",
        "\n",
        "In particular, there is an overall degradation compared to matching the question-\n",
        "context pairs, as is done in the SQuAD-style evaluation. This can be circumvented by\n",
        "\n",
        "increasing the number of possible answers that the reader is allowed to predict."
      ],
      "metadata": {
        "id": "wZXer6oQRzto"
      }
    },
    {
      "cell_type": "markdown",
      "source": [
        "# Retrieval-Augmented Generation"
      ],
      "metadata": {
        "id": "-FS76rQmQ3J4"
      }
    },
    {
      "cell_type": "markdown",
      "source": [
        "In this section\n",
        "we’ll briefly touch on the current state of the art: retrieval-augmented generation"
      ],
      "metadata": {
        "id": "ItAzajrVR_MY"
      }
    },
    {
      "cell_type": "markdown",
      "source": [
        "RAG extends the classic retriever-reader architecture that we’ve seen in this chapter\n",
        "by swapping the reader for a generator and using DPR as the retriever. The generator\n",
        "is a pretrained sequence-to-sequence transformer like T5 or BART that receives latent\n",
        "vectors of documents from DPR and then iteratively generates an answer based on\n",
        "the query and these documents. Since DPR and the generator are differentiable, the\n",
        "whole process can be fine-tuned end-to-end"
      ],
      "metadata": {
        "id": "mTIexrFLSFJX"
      }
    },
    {
      "cell_type": "markdown",
      "source": [
        "To show RAG in action we’ll use the DPRetriever from earlier, so we just need to\n",
        "instantiate a generator. There are two types of RAG models to choose from:"
      ],
      "metadata": {
        "id": "3G0OezX2SHcm"
      }
    },
    {
      "cell_type": "markdown",
      "source": [
        "1. RAG-Sequence\n",
        "Uses the same retrieved document to generate the complete answer. In particular,\n",
        "the top k documents from the retriever are fed to the generator, which produces\n",
        "an output sequence for each document, and the result is marginalized to obtain\n",
        "the best answer."
      ],
      "metadata": {
        "id": "ftkau6qCSJ4b"
      }
    },
    {
      "cell_type": "markdown",
      "source": [
        "2. RAG-Token\n",
        "Can use a different document to generate each token in the answer. This allows\n",
        "the generator to synthesize evidence from multiple documents."
      ],
      "metadata": {
        "id": "LxKo4Nm6SM9_"
      }
    },
    {
      "cell_type": "markdown",
      "source": [
        "Since RAG-Token models tend to perform better than RAG-Sequence ones, we’ll use\n",
        "the token model that was fine-tuned on NQ as our generator. Instantiating a genera‐\n",
        "tor in Haystack is similar to instantiating the reader, but instead of specifying the\n",
        "max_seq_length and doc_stride parameters for a sliding window over the contexts,\n",
        "we specify hyperparameters that control the text generation:"
      ],
      "metadata": {
        "id": "3HhE4dX8SRkp"
      }
    },
    {
      "cell_type": "code",
      "source": [
        "\n",
        "from haystack.nodes import RAGenerator\n",
        "\n",
        "generator = RAGenerator(model_name_or_path=\"facebook/rag-token-nq\",\n",
        "                        embed_title=False, num_beams=5)"
      ],
      "metadata": {
        "id": "zMpLuaPYQ5SN"
      },
      "execution_count": null,
      "outputs": []
    },
    {
      "cell_type": "markdown",
      "source": [
        "The next thing to do is tie"
      ],
      "metadata": {
        "id": "7XGsPoBTSSPk"
      }
    },
    {
      "cell_type": "code",
      "source": [
        "\n",
        "from haystack.pipelines import GenerativeQAPipeline\n",
        "\n",
        "pipe = GenerativeQAPipeline(generator=generator, retriever=dpr_retriever)"
      ],
      "metadata": {
        "id": "HrdayJ-6Q63q"
      },
      "execution_count": null,
      "outputs": []
    },
    {
      "cell_type": "markdown",
      "source": [
        "Let’s now give RAG a spin by feeding in some queries about the Amazon Fire tablet\n",
        "from before. To simplify the querying, we’ll write a simple function that takes the\n",
        "query and prints out the top answers:"
      ],
      "metadata": {
        "id": "UNvSUIEPSZdD"
      }
    },
    {
      "cell_type": "code",
      "source": [
        "def generate_answers(query, top_k_generator=3):\n",
        "    preds = pipe.run(query=query,\n",
        "                     params={\"Retriever\": {\"top_k\":5,\n",
        "                                  \"filters\":{\"item_id\": [\"B0074BW614\"]}},\n",
        "                             \"Generator\": {\"top_k\": top_k_generator}})\n",
        "    print(f\"Question: {preds['query']} \\n\")\n",
        "    for idx in range(top_k_generator):\n",
        "        print(f\"Answer {idx+1}: {preds['answers'][idx].answer}\")"
      ],
      "metadata": {
        "id": "OeOgAdiIQ8qq"
      },
      "execution_count": null,
      "outputs": []
    },
    {
      "cell_type": "code",
      "source": [
        "generate_answers(query)\n"
      ],
      "metadata": {
        "id": "i2DxutiaQ97E"
      },
      "execution_count": null,
      "outputs": []
    },
    {
      "cell_type": "code",
      "source": [
        "generate_answers(\"What is the main drawback?\")\n"
      ],
      "metadata": {
        "id": "MRzyxo9aQ_Cf"
      },
      "execution_count": null,
      "outputs": []
    },
    {
      "cell_type": "markdown",
      "source": [
        "To get better results we could fine-tune RAG end-to-end on\n",
        "SubjQA; we’ll leave this as an exercise, but if you’re interested in exploring it there are\n",
        "scripts in the Transformers repository to help you get started."
      ],
      "metadata": {
        "id": "MWNaYvDcTzgR"
      }
    },
    {
      "cell_type": "markdown",
      "source": [
        "# Conclusion\n",
        "\n",
        "Well, that was a whirlwind tour of QA, and you probably have many more questions\n",
        "that you’d like answered (pun intended!). In this chapter, we discussed two\n",
        "approaches to QA (extractive and generative) and examined two different retrieval\n",
        "algorithms (BM25 and DPR). Along the way, we saw that domain adaptation can be a\n",
        "simple technique to boost the performance of our QA system by a significant margin,\n",
        "and we looked at a few of the most common metrics that are used for evaluating such\n",
        "systems. Although we focused on closed-domain QA (i.e., a single domain of elec‐\n",
        "\n",
        "tronic products), the techniques in this chapter can easily be generalized to the open-\n",
        "domain case; we recommend reading Cloudera’s excellent Fast Forward QA series to\n",
        "\n",
        "see what’s involved."
      ],
      "metadata": {
        "id": "gtVvB7wCT066"
      }
    },
    {
      "cell_type": "markdown",
      "source": [
        "Deploying QA systems in the wild can be a tricky business to get right, and our expe‐\n",
        "rience is that a significant part of the value comes from first providing end users with\n",
        "useful search capabilities, followed by an extractive component. In this respect, the\n",
        "reader can be used in novel ways beyond answering on-demand user queries. For\n",
        "example, researchers at Grid Dynamics were able to use their reader to automatically\n",
        "extract a set of pros and cons for each product in a client’s catalog. They also showed\n",
        "that a reader can be used to extract named entities in a zero-shot fashion by creating\n",
        "queries like “What kind of camera?” Given its infancy and subtle failure modes, we\n",
        "recommend exploring generative QA only once the other two approaches have been\n",
        "exhausted. This “hierarchy of needs” for tackling QA problems"
      ],
      "metadata": {
        "id": "GjAuZbx6T3Xg"
      }
    },
    {
      "cell_type": "markdown",
      "source": [
        "Looking ahead, one exciting research area is multimodal QA, which involves QA over\n",
        "multiple modalities like text, tables, and images. As described in the MultiModalQA\n",
        "benchmark,17 such systems could enable users to answer complex questions that inte‐\n",
        "grate information across different modalities, like “When was the famous painting\n",
        "with two touching fingers completed?” Another area with practical business applica‐\n",
        "\n",
        "tions is QA over a knowledge graph, where the nodes of the graph correspond to real-\n",
        "world entities and their relations are defined by the edges. By encoding factoids as\n",
        "\n",
        "(subject, predicate, object) triples, one can use the graph to answer questions about a\n",
        "missing element. For an example that combines transformers with knowledge graphs,\n",
        "see the Haystack tutorials. One more promising direction is automatic question gener‐\n",
        "ation as a way to do some form of unsupervised/weakly supervised training using\n",
        "unlabeled data or data augmentation. Two recent examples include the papers on the\n",
        "Probably Answered Questions (PAQ) benchmark and synthetic data augmentation\n",
        "for cross-lingual settings.18"
      ],
      "metadata": {
        "id": "2KwOfOPrT5bH"
      }
    },
    {
      "cell_type": "markdown",
      "source": [],
      "metadata": {
        "id": "l5lEsljwUFa_"
      }
    },
    {
      "cell_type": "markdown",
      "source": [
        "In this chapter we’ve seen that in order to successfully use QA models for real-world\n",
        "use cases we need to apply a few tricks, such as implementing a fast retrieval pipeline\n",
        "to make predictions in near real time. Still, applying a QA model to a handful of pre‐\n",
        "selected documents can take a couple of seconds on production hardware. Although\n",
        "this may not sound like much, imagine how different your experience would be if you\n",
        "had to wait a few seconds to get the results of a Google search—a few seconds of wait\n",
        "time can decide the fate of your transformer-powered application. In the next chapter\n",
        "we’ll have a look at a few methods to accelerate model predictions further."
      ],
      "metadata": {
        "id": "GjYisSI7UKhj"
      }
    }
  ]
}